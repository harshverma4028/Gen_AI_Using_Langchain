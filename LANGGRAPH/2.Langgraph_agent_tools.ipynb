{
  "nbformat": 4,
  "nbformat_minor": 0,
  "metadata": {
    "colab": {
      "provenance": [],
      "gpuType": "T4"
    },
    "kernelspec": {
      "name": "python3",
      "display_name": "Python 3"
    },
    "language_info": {
      "name": "python"
    },
    "accelerator": "GPU"
  },
  "cells": [
    {
      "cell_type": "code",
      "execution_count": 2,
      "metadata": {
        "id": "5V2ExjdFSOcT"
      },
      "outputs": [],
      "source": [
        "!pip install --upgrade langchain langchain-community langgraph langchain-anthropic wikipedia"
      ]
    },
    {
      "cell_type": "code",
      "source": [
        "import os\n",
        "os.environ[\"ANTHROPIC_API_KEY\"]  = \"\""
      ],
      "metadata": {
        "id": "DIJTYdNaTFL_"
      },
      "execution_count": null,
      "outputs": []
    },
    {
      "cell_type": "code",
      "source": [
        "from langchain_anthropic import ChatAnthropic\n",
        "llm = ChatAnthropic(model='claude-3-7-sonnet-latest')"
      ],
      "metadata": {
        "id": "p-70IulGSs0M"
      },
      "execution_count": null,
      "outputs": []
    },
    {
      "cell_type": "code",
      "source": [
        "from langchain_community.tools import WikipediaQueryRun\n",
        "from langchain_community.utilities import WikipediaAPIWrapper\n",
        "\n",
        "\n",
        "api_wrapper = WikipediaAPIWrapper(top_k_results=1, doc_content_chars_max=300)\n",
        "wiki_tool = WikipediaQueryRun(api_wrapper=api_wrapper)"
      ],
      "metadata": {
        "id": "8vPZRKNoS-wI"
      },
      "execution_count": null,
      "outputs": []
    },
    {
      "cell_type": "code",
      "source": [
        "wiki_tool.run({\"query\": \"AI agents\"})"
      ],
      "metadata": {
        "colab": {
          "base_uri": "https://localhost:8080/",
          "height": 52
        },
        "id": "HORVvNFZTBbO",
        "outputId": "5b0f3fbe-4988-409a-bfdc-c9a3b89587f8"
      },
      "execution_count": null,
      "outputs": [
        {
          "output_type": "execute_result",
          "data": {
            "text/plain": [
              "'Page: Agentic AI\\nSummary: Agentic AI is a class of artificial intelligence that focuses on autonomous systems that can make decisions and perform tasks without human intervention. The independent systems automatically respond to conditions, to produce process results. The field is closely linked to '"
            ],
            "application/vnd.google.colaboratory.intrinsic+json": {
              "type": "string"
            }
          },
          "metadata": {},
          "execution_count": 14
        }
      ]
    },
    {
      "cell_type": "code",
      "source": [
        "tools = [wiki_tool]\n",
        "\n",
        "# Tool binding\n",
        "llm_with_tools = llm.bind_tools(tools)\n",
        "\n",
        "#Tool calling\n",
        "result = llm_with_tools.invoke(\"Hello world!\")\n",
        "result\n",
        "result.content"
      ],
      "metadata": {
        "colab": {
          "base_uri": "https://localhost:8080/",
          "height": 70
        },
        "id": "vB-3dvskTuwO",
        "outputId": "31d4f3f5-9895-410a-dd48-6ea542bb901b"
      },
      "execution_count": null,
      "outputs": [
        {
          "output_type": "execute_result",
          "data": {
            "text/plain": [
              "\"Hello! I'm here to help you with your questions. You can ask me about a wide range of topics, and I can use Wikipedia to look up information for you if needed. \\n\\nIs there something specific you'd like to know about? I can search for information on people, places, historical events, scientific concepts, or other subjects you're curious about.\""
            ],
            "application/vnd.google.colaboratory.intrinsic+json": {
              "type": "string"
            }
          },
          "metadata": {},
          "execution_count": 13
        }
      ]
    },
    {
      "cell_type": "code",
      "source": [
        "from langgraph.prebuilt import create_react_agent\n",
        "\n",
        "agent_executer = create_react_agent(llm,tools)"
      ],
      "metadata": {
        "id": "7xxRTixWbwRN"
      },
      "execution_count": null,
      "outputs": []
    },
    {
      "cell_type": "code",
      "source": [
        "from langchain_core.messages import HumanMessage\n",
        "\n",
        "# First up, let's see how it responds\n",
        "response = agent_executer.invoke({\"messages\":[HumanMessage(content=\"Hii\")]})\n",
        "\n",
        "response[\"messages\"]"
      ],
      "metadata": {
        "colab": {
          "base_uri": "https://localhost:8080/"
        },
        "id": "dB_kmVxSbyTr",
        "outputId": "903849ba-10ef-4380-81d6-8bc0d20a36ae"
      },
      "execution_count": null,
      "outputs": [
        {
          "output_type": "execute_result",
          "data": {
            "text/plain": [
              "[HumanMessage(content='Hii', additional_kwargs={}, response_metadata={}, id='0345d140-6a46-48a1-bf55-bb2fb3ac8277'),\n",
              " AIMessage(content=\"Hello! I'd be happy to assist you today. Is there something specific you'd like to know about or a topic you're interested in exploring? I can help answer questions, provide information from Wikipedia, or discuss various subjects. Just let me know what you're looking for!\", additional_kwargs={}, response_metadata={'id': 'msg_01QBG2fQREdvD47ovVcZXPUD', 'model': 'claude-3-7-sonnet-latest', 'stop_reason': 'end_turn', 'stop_sequence': None, 'usage': {'cache_creation_input_tokens': 0, 'cache_read_input_tokens': 0, 'input_tokens': 417, 'output_tokens': 59, 'server_tool_use': None}, 'model_name': 'claude-3-7-sonnet-latest'}, id='run--fb7bc2fb-9220-4941-ba82-c941674a2ea9-0', usage_metadata={'input_tokens': 417, 'output_tokens': 59, 'total_tokens': 476, 'input_token_details': {'cache_read': 0, 'cache_creation': 0}})]"
            ]
          },
          "metadata": {},
          "execution_count": 19
        }
      ]
    },
    {
      "cell_type": "code",
      "source": [
        "print(response[\"messages\"][-1].content)"
      ],
      "metadata": {
        "colab": {
          "base_uri": "https://localhost:8080/"
        },
        "id": "Agiy8Ogvcqf5",
        "outputId": "8a18f079-0047-4fbb-8e39-326d9694f248"
      },
      "execution_count": null,
      "outputs": [
        {
          "output_type": "stream",
          "name": "stdout",
          "text": [
            "Hello! I'd be happy to assist you today. Is there something specific you'd like to know about or a topic you're interested in exploring? I can help answer questions, provide information from Wikipedia, or discuss various subjects. Just let me know what you're looking for!\n"
          ]
        }
      ]
    },
    {
      "cell_type": "code",
      "source": [
        "from langchain_core.messages import HumanMessage\n",
        "\n",
        "# First up, let's see how it responds\n",
        "response = agent_executer.invoke({\"messages\":[HumanMessage(content=\"what is agentic AI\")]})\n",
        "\n",
        "response[\"messages\"]"
      ],
      "metadata": {
        "colab": {
          "base_uri": "https://localhost:8080/"
        },
        "id": "y1D_Fwe5dGRK",
        "outputId": "f8a5f539-c218-4032-9ddf-671a33e49c8d"
      },
      "execution_count": null,
      "outputs": [
        {
          "output_type": "execute_result",
          "data": {
            "text/plain": [
              "[HumanMessage(content='what is agentic AI', additional_kwargs={}, response_metadata={}, id='b2b1f353-cbbb-4e87-ba26-03090c9e7dde'),\n",
              " AIMessage(content=[{'text': '\"Agentic AI\" refers to artificial intelligence systems that can operate autonomously to accomplish tasks and goals. Let me look up some more detailed information for you.', 'type': 'text'}, {'id': 'toolu_01UJzrZxoN39Y8xTLWBENwU9', 'input': {'query': 'agentic AI'}, 'name': 'wikipedia', 'type': 'tool_use'}], additional_kwargs={}, response_metadata={'id': 'msg_014RTjRJW6GmPPpacbs41Xis', 'model': 'claude-3-7-sonnet-latest', 'stop_reason': 'tool_use', 'stop_sequence': None, 'usage': {'cache_creation_input_tokens': 0, 'cache_read_input_tokens': 0, 'input_tokens': 420, 'output_tokens': 89, 'server_tool_use': None}, 'model_name': 'claude-3-7-sonnet-latest'}, id='run--e2d81e0b-d863-4cde-b45d-21444e03f226-0', tool_calls=[{'name': 'wikipedia', 'args': {'query': 'agentic AI'}, 'id': 'toolu_01UJzrZxoN39Y8xTLWBENwU9', 'type': 'tool_call'}], usage_metadata={'input_tokens': 420, 'output_tokens': 89, 'total_tokens': 509, 'input_token_details': {'cache_read': 0, 'cache_creation': 0}}),\n",
              " ToolMessage(content='Page: Agentic AI\\nSummary: Agentic AI is a class of artificial intelligence that focuses on autonomous systems that can make decisions and perform tasks without human intervention. The independent systems automatically respond to conditions, to produce process results. The field is closely linked to ', name='wikipedia', id='56145443-8fa9-4a4c-9759-400cb2f0b5fa', tool_call_id='toolu_01UJzrZxoN39Y8xTLWBENwU9'),\n",
              " AIMessage(content=[{'text': 'Let me get more comprehensive information:', 'type': 'text'}, {'id': 'toolu_01JahN8Nha2NEUXkRscvEidZ', 'input': {'query': 'AI agent autonomous systems'}, 'name': 'wikipedia', 'type': 'tool_use'}], additional_kwargs={}, response_metadata={'id': 'msg_01Quu3xtBdx8gHFNnkEFM1Um', 'model': 'claude-3-7-sonnet-latest', 'stop_reason': 'tool_use', 'stop_sequence': None, 'usage': {'cache_creation_input_tokens': 0, 'cache_read_input_tokens': 0, 'input_tokens': 576, 'output_tokens': 63, 'server_tool_use': None}, 'model_name': 'claude-3-7-sonnet-latest'}, id='run--98840af8-a466-45db-a79e-5e2b2eb3c041-0', tool_calls=[{'name': 'wikipedia', 'args': {'query': 'AI agent autonomous systems'}, 'id': 'toolu_01JahN8Nha2NEUXkRscvEidZ', 'type': 'tool_call'}], usage_metadata={'input_tokens': 576, 'output_tokens': 63, 'total_tokens': 639, 'input_token_details': {'cache_read': 0, 'cache_creation': 0}}),\n",
              " ToolMessage(content='Page: Agentic AI\\nSummary: Agentic AI is a class of artificial intelligence that focuses on autonomous systems that can make decisions and perform tasks without human intervention. The independent systems automatically respond to conditions, to produce process results. The field is closely linked to ', name='wikipedia', id='c4060218-d0b8-4b24-ba10-e6cbb550d127', tool_call_id='toolu_01JahN8Nha2NEUXkRscvEidZ'),\n",
              " AIMessage(content=\"Based on the information I've gathered, Agentic AI refers to:\\n\\n1. A class of artificial intelligence systems that can operate autonomously\\n2. Systems that can make decisions and perform tasks without human intervention\\n3. Independent systems that automatically respond to conditions to produce results\\n\\nAgentic AI differs from more passive AI systems (like traditional chatbots) because it has a greater degree of autonomy and can take initiative to accomplish goals. These systems typically have:\\n\\n- The ability to perceive their environment\\n- The capability to make decisions based on their observations\\n- The capacity to take actions that affect their environment\\n- Often some form of planning or reasoning about how to achieve objectives\\n\\nExamples of agentic AI might include autonomous vehicles, AI assistants that can proactively complete tasks, or systems that can independently research and solve problems.\\n\\nThe development of increasingly agentic AI systems raises important considerations around reliability, alignment with human values, and appropriate levels of autonomy for different applications.\", additional_kwargs={}, response_metadata={'id': 'msg_01HTMk8n18eVwNUNWJW88MFH', 'model': 'claude-3-7-sonnet-latest', 'stop_reason': 'end_turn', 'stop_sequence': None, 'usage': {'cache_creation_input_tokens': 0, 'cache_read_input_tokens': 0, 'input_tokens': 706, 'output_tokens': 211, 'server_tool_use': None}, 'model_name': 'claude-3-7-sonnet-latest'}, id='run--87d22fc6-b935-427a-a8be-c9cc36952bbd-0', usage_metadata={'input_tokens': 706, 'output_tokens': 211, 'total_tokens': 917, 'input_token_details': {'cache_read': 0, 'cache_creation': 0}})]"
            ]
          },
          "metadata": {},
          "execution_count": 21
        }
      ]
    },
    {
      "cell_type": "code",
      "source": [],
      "metadata": {
        "id": "g30axSdHdmQR"
      },
      "execution_count": null,
      "outputs": []
    },
    {
      "cell_type": "code",
      "source": [
        "print(response[\"messages\"][-1].content)"
      ],
      "metadata": {
        "colab": {
          "base_uri": "https://localhost:8080/"
        },
        "outputId": "d8f6df2b-13bd-442e-d077-964a1308bbc1",
        "id": "3_G1YiySdw_x"
      },
      "execution_count": null,
      "outputs": [
        {
          "output_type": "stream",
          "name": "stdout",
          "text": [
            "Based on the information I've gathered, Agentic AI refers to:\n",
            "\n",
            "1. A class of artificial intelligence systems that can operate autonomously\n",
            "2. Systems that can make decisions and perform tasks without human intervention\n",
            "3. Independent systems that automatically respond to conditions to produce results\n",
            "\n",
            "Agentic AI differs from more passive AI systems (like traditional chatbots) because it has a greater degree of autonomy and can take initiative to accomplish goals. These systems typically have:\n",
            "\n",
            "- The ability to perceive their environment\n",
            "- The capability to make decisions based on their observations\n",
            "- The capacity to take actions that affect their environment\n",
            "- Often some form of planning or reasoning about how to achieve objectives\n",
            "\n",
            "Examples of agentic AI might include autonomous vehicles, AI assistants that can proactively complete tasks, or systems that can independently research and solve problems.\n",
            "\n",
            "The development of increasingly agentic AI systems raises important considerations around reliability, alignment with human values, and appropriate levels of autonomy for different applications.\n"
          ]
        }
      ]
    }
  ]
}