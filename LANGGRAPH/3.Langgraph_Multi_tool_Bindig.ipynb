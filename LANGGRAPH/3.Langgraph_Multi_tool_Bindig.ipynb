{
  "nbformat": 4,
  "nbformat_minor": 0,
  "metadata": {
    "colab": {
      "provenance": [],
      "gpuType": "T4"
    },
    "kernelspec": {
      "name": "python3",
      "display_name": "Python 3"
    },
    "language_info": {
      "name": "python"
    },
    "accelerator": "GPU"
  },
  "cells": [
    {
      "cell_type": "code",
      "execution_count": 1,
      "metadata": {
        "colab": {
          "base_uri": "https://localhost:8080/"
        },
        "id": "pJBs1vQx7CWs",
        "outputId": "9eedf0d5-95e3-4f32-d35a-8d488170817b"
      },
      "outputs": [
        {
          "output_type": "stream",
          "name": "stdout",
          "text": [
            "Requirement already satisfied: langchain in /usr/local/lib/python3.11/dist-packages (0.3.25)\n",
            "Collecting langchain-community\n",
            "  Downloading langchain_community-0.3.24-py3-none-any.whl.metadata (2.5 kB)\n",
            "Collecting langgraph\n",
            "  Downloading langgraph-0.4.5-py3-none-any.whl.metadata (7.3 kB)\n",
            "Requirement already satisfied: openai in /usr/local/lib/python3.11/dist-packages (1.78.1)\n",
            "Collecting openai\n",
            "  Downloading openai-1.79.0-py3-none-any.whl.metadata (25 kB)\n",
            "Collecting langchain-anthropic\n",
            "  Downloading langchain_anthropic-0.3.13-py3-none-any.whl.metadata (1.9 kB)\n",
            "Requirement already satisfied: langchain-core<1.0.0,>=0.3.58 in /usr/local/lib/python3.11/dist-packages (from langchain) (0.3.59)\n",
            "Requirement already satisfied: langchain-text-splitters<1.0.0,>=0.3.8 in /usr/local/lib/python3.11/dist-packages (from langchain) (0.3.8)\n",
            "Requirement already satisfied: langsmith<0.4,>=0.1.17 in /usr/local/lib/python3.11/dist-packages (from langchain) (0.3.42)\n",
            "Requirement already satisfied: pydantic<3.0.0,>=2.7.4 in /usr/local/lib/python3.11/dist-packages (from langchain) (2.11.4)\n",
            "Requirement already satisfied: SQLAlchemy<3,>=1.4 in /usr/local/lib/python3.11/dist-packages (from langchain) (2.0.40)\n",
            "Requirement already satisfied: requests<3,>=2 in /usr/local/lib/python3.11/dist-packages (from langchain) (2.32.3)\n",
            "Requirement already satisfied: PyYAML>=5.3 in /usr/local/lib/python3.11/dist-packages (from langchain) (6.0.2)\n",
            "Requirement already satisfied: aiohttp<4.0.0,>=3.8.3 in /usr/local/lib/python3.11/dist-packages (from langchain-community) (3.11.15)\n",
            "Requirement already satisfied: tenacity!=8.4.0,<10,>=8.1.0 in /usr/local/lib/python3.11/dist-packages (from langchain-community) (9.1.2)\n",
            "Collecting dataclasses-json<0.7,>=0.5.7 (from langchain-community)\n",
            "  Downloading dataclasses_json-0.6.7-py3-none-any.whl.metadata (25 kB)\n",
            "Collecting pydantic-settings<3.0.0,>=2.4.0 (from langchain-community)\n",
            "  Downloading pydantic_settings-2.9.1-py3-none-any.whl.metadata (3.8 kB)\n",
            "Collecting httpx-sse<1.0.0,>=0.4.0 (from langchain-community)\n",
            "  Downloading httpx_sse-0.4.0-py3-none-any.whl.metadata (9.0 kB)\n",
            "Requirement already satisfied: numpy>=1.26.2 in /usr/local/lib/python3.11/dist-packages (from langchain-community) (2.0.2)\n",
            "Collecting langgraph-checkpoint<3.0.0,>=2.0.26 (from langgraph)\n",
            "  Downloading langgraph_checkpoint-2.0.26-py3-none-any.whl.metadata (4.6 kB)\n",
            "Collecting langgraph-prebuilt>=0.1.8 (from langgraph)\n",
            "  Downloading langgraph_prebuilt-0.1.8-py3-none-any.whl.metadata (5.0 kB)\n",
            "Collecting langgraph-sdk>=0.1.42 (from langgraph)\n",
            "  Downloading langgraph_sdk-0.1.69-py3-none-any.whl.metadata (1.8 kB)\n",
            "Requirement already satisfied: xxhash<4.0.0,>=3.5.0 in /usr/local/lib/python3.11/dist-packages (from langgraph) (3.5.0)\n",
            "Requirement already satisfied: anyio<5,>=3.5.0 in /usr/local/lib/python3.11/dist-packages (from openai) (4.9.0)\n",
            "Requirement already satisfied: distro<2,>=1.7.0 in /usr/local/lib/python3.11/dist-packages (from openai) (1.9.0)\n",
            "Requirement already satisfied: httpx<1,>=0.23.0 in /usr/local/lib/python3.11/dist-packages (from openai) (0.28.1)\n",
            "Requirement already satisfied: jiter<1,>=0.4.0 in /usr/local/lib/python3.11/dist-packages (from openai) (0.9.0)\n",
            "Requirement already satisfied: sniffio in /usr/local/lib/python3.11/dist-packages (from openai) (1.3.1)\n",
            "Requirement already satisfied: tqdm>4 in /usr/local/lib/python3.11/dist-packages (from openai) (4.67.1)\n",
            "Requirement already satisfied: typing-extensions<5,>=4.11 in /usr/local/lib/python3.11/dist-packages (from openai) (4.13.2)\n",
            "Collecting anthropic<1,>=0.51.0 (from langchain-anthropic)\n",
            "  Downloading anthropic-0.51.0-py3-none-any.whl.metadata (25 kB)\n",
            "Requirement already satisfied: aiohappyeyeballs>=2.3.0 in /usr/local/lib/python3.11/dist-packages (from aiohttp<4.0.0,>=3.8.3->langchain-community) (2.6.1)\n",
            "Requirement already satisfied: aiosignal>=1.1.2 in /usr/local/lib/python3.11/dist-packages (from aiohttp<4.0.0,>=3.8.3->langchain-community) (1.3.2)\n",
            "Requirement already satisfied: attrs>=17.3.0 in /usr/local/lib/python3.11/dist-packages (from aiohttp<4.0.0,>=3.8.3->langchain-community) (25.3.0)\n",
            "Requirement already satisfied: frozenlist>=1.1.1 in /usr/local/lib/python3.11/dist-packages (from aiohttp<4.0.0,>=3.8.3->langchain-community) (1.6.0)\n",
            "Requirement already satisfied: multidict<7.0,>=4.5 in /usr/local/lib/python3.11/dist-packages (from aiohttp<4.0.0,>=3.8.3->langchain-community) (6.4.3)\n",
            "Requirement already satisfied: propcache>=0.2.0 in /usr/local/lib/python3.11/dist-packages (from aiohttp<4.0.0,>=3.8.3->langchain-community) (0.3.1)\n",
            "Requirement already satisfied: yarl<2.0,>=1.17.0 in /usr/local/lib/python3.11/dist-packages (from aiohttp<4.0.0,>=3.8.3->langchain-community) (1.20.0)\n",
            "Requirement already satisfied: idna>=2.8 in /usr/local/lib/python3.11/dist-packages (from anyio<5,>=3.5.0->openai) (3.10)\n",
            "Collecting marshmallow<4.0.0,>=3.18.0 (from dataclasses-json<0.7,>=0.5.7->langchain-community)\n",
            "  Downloading marshmallow-3.26.1-py3-none-any.whl.metadata (7.3 kB)\n",
            "Collecting typing-inspect<1,>=0.4.0 (from dataclasses-json<0.7,>=0.5.7->langchain-community)\n",
            "  Downloading typing_inspect-0.9.0-py3-none-any.whl.metadata (1.5 kB)\n",
            "Requirement already satisfied: certifi in /usr/local/lib/python3.11/dist-packages (from httpx<1,>=0.23.0->openai) (2025.4.26)\n",
            "Requirement already satisfied: httpcore==1.* in /usr/local/lib/python3.11/dist-packages (from httpx<1,>=0.23.0->openai) (1.0.9)\n",
            "Requirement already satisfied: h11>=0.16 in /usr/local/lib/python3.11/dist-packages (from httpcore==1.*->httpx<1,>=0.23.0->openai) (0.16.0)\n",
            "Requirement already satisfied: jsonpatch<2.0,>=1.33 in /usr/local/lib/python3.11/dist-packages (from langchain-core<1.0.0,>=0.3.58->langchain) (1.33)\n",
            "Requirement already satisfied: packaging<25,>=23.2 in /usr/local/lib/python3.11/dist-packages (from langchain-core<1.0.0,>=0.3.58->langchain) (24.2)\n",
            "Collecting ormsgpack<2.0.0,>=1.8.0 (from langgraph-checkpoint<3.0.0,>=2.0.26->langgraph)\n",
            "  Downloading ormsgpack-1.9.1-cp311-cp311-manylinux_2_17_x86_64.manylinux2014_x86_64.whl.metadata (43 kB)\n",
            "\u001b[2K     \u001b[90m━━━━━━━━━━━━━━━━━━━━━━━━━━━━━━━━━━━━━━━━\u001b[0m \u001b[32m43.5/43.5 kB\u001b[0m \u001b[31m3.2 MB/s\u001b[0m eta \u001b[36m0:00:00\u001b[0m\n",
            "\u001b[?25hRequirement already satisfied: orjson>=3.10.1 in /usr/local/lib/python3.11/dist-packages (from langgraph-sdk>=0.1.42->langgraph) (3.10.18)\n",
            "Requirement already satisfied: requests-toolbelt<2.0.0,>=1.0.0 in /usr/local/lib/python3.11/dist-packages (from langsmith<0.4,>=0.1.17->langchain) (1.0.0)\n",
            "Requirement already satisfied: zstandard<0.24.0,>=0.23.0 in /usr/local/lib/python3.11/dist-packages (from langsmith<0.4,>=0.1.17->langchain) (0.23.0)\n",
            "Requirement already satisfied: annotated-types>=0.6.0 in /usr/local/lib/python3.11/dist-packages (from pydantic<3.0.0,>=2.7.4->langchain) (0.7.0)\n",
            "Requirement already satisfied: pydantic-core==2.33.2 in /usr/local/lib/python3.11/dist-packages (from pydantic<3.0.0,>=2.7.4->langchain) (2.33.2)\n",
            "Requirement already satisfied: typing-inspection>=0.4.0 in /usr/local/lib/python3.11/dist-packages (from pydantic<3.0.0,>=2.7.4->langchain) (0.4.0)\n",
            "Collecting python-dotenv>=0.21.0 (from pydantic-settings<3.0.0,>=2.4.0->langchain-community)\n",
            "  Downloading python_dotenv-1.1.0-py3-none-any.whl.metadata (24 kB)\n",
            "Requirement already satisfied: charset-normalizer<4,>=2 in /usr/local/lib/python3.11/dist-packages (from requests<3,>=2->langchain) (3.4.2)\n",
            "Requirement already satisfied: urllib3<3,>=1.21.1 in /usr/local/lib/python3.11/dist-packages (from requests<3,>=2->langchain) (2.4.0)\n",
            "Requirement already satisfied: greenlet>=1 in /usr/local/lib/python3.11/dist-packages (from SQLAlchemy<3,>=1.4->langchain) (3.2.2)\n",
            "Requirement already satisfied: jsonpointer>=1.9 in /usr/local/lib/python3.11/dist-packages (from jsonpatch<2.0,>=1.33->langchain-core<1.0.0,>=0.3.58->langchain) (3.0.0)\n",
            "Collecting mypy-extensions>=0.3.0 (from typing-inspect<1,>=0.4.0->dataclasses-json<0.7,>=0.5.7->langchain-community)\n",
            "  Downloading mypy_extensions-1.1.0-py3-none-any.whl.metadata (1.1 kB)\n",
            "Downloading langchain_community-0.3.24-py3-none-any.whl (2.5 MB)\n",
            "\u001b[2K   \u001b[90m━━━━━━━━━━━━━━━━━━━━━━━━━━━━━━━━━━━━━━━━\u001b[0m \u001b[32m2.5/2.5 MB\u001b[0m \u001b[31m18.1 MB/s\u001b[0m eta \u001b[36m0:00:00\u001b[0m\n",
            "\u001b[?25hDownloading langgraph-0.4.5-py3-none-any.whl (155 kB)\n",
            "\u001b[2K   \u001b[90m━━━━━━━━━━━━━━━━━━━━━━━━━━━━━━━━━━━━━━━━\u001b[0m \u001b[32m155.3/155.3 kB\u001b[0m \u001b[31m14.0 MB/s\u001b[0m eta \u001b[36m0:00:00\u001b[0m\n",
            "\u001b[?25hDownloading openai-1.79.0-py3-none-any.whl (683 kB)\n",
            "\u001b[2K   \u001b[90m━━━━━━━━━━━━━━━━━━━━━━━━━━━━━━━━━━━━━━━━\u001b[0m \u001b[32m683.3/683.3 kB\u001b[0m \u001b[31m47.9 MB/s\u001b[0m eta \u001b[36m0:00:00\u001b[0m\n",
            "\u001b[?25hDownloading langchain_anthropic-0.3.13-py3-none-any.whl (26 kB)\n",
            "Downloading anthropic-0.51.0-py3-none-any.whl (263 kB)\n",
            "\u001b[2K   \u001b[90m━━━━━━━━━━━━━━━━━━━━━━━━━━━━━━━━━━━━━━━━\u001b[0m \u001b[32m264.0/264.0 kB\u001b[0m \u001b[31m20.0 MB/s\u001b[0m eta \u001b[36m0:00:00\u001b[0m\n",
            "\u001b[?25hDownloading dataclasses_json-0.6.7-py3-none-any.whl (28 kB)\n",
            "Downloading httpx_sse-0.4.0-py3-none-any.whl (7.8 kB)\n",
            "Downloading langgraph_checkpoint-2.0.26-py3-none-any.whl (44 kB)\n",
            "\u001b[2K   \u001b[90m━━━━━━━━━━━━━━━━━━━━━━━━━━━━━━━━━━━━━━━━\u001b[0m \u001b[32m44.2/44.2 kB\u001b[0m \u001b[31m3.0 MB/s\u001b[0m eta \u001b[36m0:00:00\u001b[0m\n",
            "\u001b[?25hDownloading langgraph_prebuilt-0.1.8-py3-none-any.whl (25 kB)\n",
            "Downloading langgraph_sdk-0.1.69-py3-none-any.whl (48 kB)\n",
            "\u001b[2K   \u001b[90m━━━━━━━━━━━━━━━━━━━━━━━━━━━━━━━━━━━━━━━━\u001b[0m \u001b[32m48.9/48.9 kB\u001b[0m \u001b[31m4.0 MB/s\u001b[0m eta \u001b[36m0:00:00\u001b[0m\n",
            "\u001b[?25hDownloading pydantic_settings-2.9.1-py3-none-any.whl (44 kB)\n",
            "\u001b[2K   \u001b[90m━━━━━━━━━━━━━━━━━━━━━━━━━━━━━━━━━━━━━━━━\u001b[0m \u001b[32m44.4/44.4 kB\u001b[0m \u001b[31m910.0 kB/s\u001b[0m eta \u001b[36m0:00:00\u001b[0m\n",
            "\u001b[?25hDownloading marshmallow-3.26.1-py3-none-any.whl (50 kB)\n",
            "\u001b[2K   \u001b[90m━━━━━━━━━━━━━━━━━━━━━━━━━━━━━━━━━━━━━━━━\u001b[0m \u001b[32m50.9/50.9 kB\u001b[0m \u001b[31m3.6 MB/s\u001b[0m eta \u001b[36m0:00:00\u001b[0m\n",
            "\u001b[?25hDownloading ormsgpack-1.9.1-cp311-cp311-manylinux_2_17_x86_64.manylinux2014_x86_64.whl (223 kB)\n",
            "\u001b[2K   \u001b[90m━━━━━━━━━━━━━━━━━━━━━━━━━━━━━━━━━━━━━━━━\u001b[0m \u001b[32m223.6/223.6 kB\u001b[0m \u001b[31m16.9 MB/s\u001b[0m eta \u001b[36m0:00:00\u001b[0m\n",
            "\u001b[?25hDownloading python_dotenv-1.1.0-py3-none-any.whl (20 kB)\n",
            "Downloading typing_inspect-0.9.0-py3-none-any.whl (8.8 kB)\n",
            "Downloading mypy_extensions-1.1.0-py3-none-any.whl (5.0 kB)\n",
            "Installing collected packages: python-dotenv, ormsgpack, mypy-extensions, marshmallow, httpx-sse, typing-inspect, pydantic-settings, openai, langgraph-sdk, dataclasses-json, anthropic, langgraph-checkpoint, langchain-anthropic, langgraph-prebuilt, langgraph, langchain-community\n",
            "  Attempting uninstall: openai\n",
            "    Found existing installation: openai 1.78.1\n",
            "    Uninstalling openai-1.78.1:\n",
            "      Successfully uninstalled openai-1.78.1\n",
            "Successfully installed anthropic-0.51.0 dataclasses-json-0.6.7 httpx-sse-0.4.0 langchain-anthropic-0.3.13 langchain-community-0.3.24 langgraph-0.4.5 langgraph-checkpoint-2.0.26 langgraph-prebuilt-0.1.8 langgraph-sdk-0.1.69 marshmallow-3.26.1 mypy-extensions-1.1.0 openai-1.79.0 ormsgpack-1.9.1 pydantic-settings-2.9.1 python-dotenv-1.1.0 typing-inspect-0.9.0\n"
          ]
        }
      ],
      "source": [
        "!pip install --upgrade langchain langchain-community langgraph  openai langchain-anthropic"
      ]
    },
    {
      "cell_type": "code",
      "source": [
        "import os\n",
        "os.environ[\"ANTHROPIC_API_KEY\"]  = \"\""
      ],
      "metadata": {
        "id": "yTgSu4Rg9gWv"
      },
      "execution_count": 2,
      "outputs": []
    },
    {
      "cell_type": "code",
      "source": [
        "from IPython.display import Image,display\n",
        "from langgraph.graph import StateGraph,START\n",
        "from langchain_anthropic import ChatAnthropic\n",
        "import requests\n",
        "from langchain_core.messages import SystemMessage, HumanMessage\n",
        "from langgraph.graph import MessagesState\n",
        "\n",
        "from langgraph.prebuilt import ToolNode, tools_condition\n",
        "\n",
        "from typing import Annotated\n",
        "from typing_extensions import TypedDict\n",
        "from langgraph.graph.message import add_messages"
      ],
      "metadata": {
        "id": "MLINWfE07yZd"
      },
      "execution_count": 3,
      "outputs": []
    },
    {
      "cell_type": "code",
      "source": [
        "class State(TypedDict):\n",
        "    messages: Annotated[list, add_messages]"
      ],
      "metadata": {
        "id": "bnLTDN4n77z6"
      },
      "execution_count": 4,
      "outputs": []
    },
    {
      "cell_type": "code",
      "source": [
        "!pip install -U duckduckgo-search"
      ],
      "metadata": {
        "colab": {
          "base_uri": "https://localhost:8080/"
        },
        "id": "JIKGPlDv8IXO",
        "outputId": "60c178d7-efa3-4232-c216-1d090f1b3cbe"
      },
      "execution_count": 5,
      "outputs": [
        {
          "output_type": "stream",
          "name": "stdout",
          "text": [
            "Collecting duckduckgo-search\n",
            "  Downloading duckduckgo_search-8.0.2-py3-none-any.whl.metadata (16 kB)\n",
            "Requirement already satisfied: click>=8.1.8 in /usr/local/lib/python3.11/dist-packages (from duckduckgo-search) (8.2.0)\n",
            "Collecting primp>=0.15.0 (from duckduckgo-search)\n",
            "  Downloading primp-0.15.0-cp38-abi3-manylinux_2_17_x86_64.manylinux2014_x86_64.whl.metadata (13 kB)\n",
            "Requirement already satisfied: lxml>=5.3.0 in /usr/local/lib/python3.11/dist-packages (from duckduckgo-search) (5.4.0)\n",
            "Downloading duckduckgo_search-8.0.2-py3-none-any.whl (18 kB)\n",
            "Downloading primp-0.15.0-cp38-abi3-manylinux_2_17_x86_64.manylinux2014_x86_64.whl (3.3 MB)\n",
            "\u001b[2K   \u001b[90m━━━━━━━━━━━━━━━━━━━━━━━━━━━━━━━━━━━━━━━━\u001b[0m \u001b[32m3.3/3.3 MB\u001b[0m \u001b[31m63.6 MB/s\u001b[0m eta \u001b[36m0:00:00\u001b[0m\n",
            "\u001b[?25hInstalling collected packages: primp, duckduckgo-search\n",
            "Successfully installed duckduckgo-search-8.0.2 primp-0.15.0\n"
          ]
        }
      ]
    },
    {
      "cell_type": "code",
      "source": [
        "from langchain_community.tools import DuckDuckGoSearchRun\n",
        "search = DuckDuckGoSearchRun()\n",
        "search.invoke(\"Obama's first name?\")"
      ],
      "metadata": {
        "colab": {
          "base_uri": "https://localhost:8080/",
          "height": 122
        },
        "id": "pxx_qShu8eUh",
        "outputId": "f2a95500-8710-4bfe-e27f-31d9ce949c76"
      },
      "execution_count": 6,
      "outputs": [
        {
          "output_type": "execute_result",
          "data": {
            "text/plain": [
              "\"Obama's father, Barack Obama, Sr., was a teenage goatherd in rural Kenya, won a scholarship to study in the United States, and eventually became a senior economist in the Kenyan government.Obama's mother, S. Ann Dunham, grew up in Kansas, Texas, and Washington state before her family settled in Honolulu.In 1960 she and Barack Sr. met in a Russian language class at the University of Hawaii ... The White House, official residence of the president of the United States. The president of the United States is the head of state and head of government of the United States, [1] indirectly elected to a four-year term via the Electoral College. [2] Under the U.S. Constitution, the officeholder leads the executive branch of the federal government and is the commander-in-chief of the United ... First Generation: 1. Barack Hussein OBAMA was born on 4 August 1961 at the Kapiolani Maternity & Gynecological Hospital in Honolulu, Hawaii, to Barack Hussein OBAMA, Sr. of Nyangoma-Kogelo, Siaya District, Kenya, and Stanley Ann DUNHAM of Wichita, Kansas. His parents met while both were attending the East-West Center of the University of Hawaii at Manoa, where his father was enrolled as a ... Born on August 4, 1961, in Honolulu, Hawaii, Obama is the first president born outside the continental United States. His full name is Barack Hussein Obama II, named after his father. Obama's mother, Ann Dunham, was from Kansas, while his father, Barack Obama Sr., hailed from Kenya. Timeline of Barack Obama August 4, 1961. Barack Hussein Obama II is born in Honolulu, Hawaii, to Barack Obama Sr., a Kenyan economist, and Ann Dunham, an anthropologist from Kansas. His parents met while attending the University of Hawaii. They divorced when Barack was two years old, leaving Ann to raise him primarily on her own.\""
            ],
            "application/vnd.google.colaboratory.intrinsic+json": {
              "type": "string"
            }
          },
          "metadata": {},
          "execution_count": 6
        }
      ]
    },
    {
      "cell_type": "code",
      "source": [
        "from langchain_community.tools import DuckDuckGoSearchRun\n",
        "\n",
        "def search_duckduckgo(query: str):\n",
        "    \"\"\"Searches DuckDuckGo using LangChain's DuckDuckGoSearchRun tool.\"\"\"\n",
        "    search = DuckDuckGoSearchRun()\n",
        "    return search.invoke(query)\n",
        "\n",
        "# Example usage\n",
        "result = search_duckduckgo(\"what are AI agent\")\n",
        "print(result)"
      ],
      "metadata": {
        "colab": {
          "base_uri": "https://localhost:8080/"
        },
        "id": "-3IZT8Ke8gLa",
        "outputId": "bbbe0be1-2749-4f5b-a1f9-747adf691feb"
      },
      "execution_count": 7,
      "outputs": [
        {
          "output_type": "stream",
          "name": "stdout",
          "text": [
            "An AI agent is a software component that has the agency to act on behalf of a user or a system to perform tasks.Users can organize agents into systems that can orchestrate complex workflows, coordinate activities among multiple agents, apply logic to thorny problems, and evaluate answers to user queries. Intro to AI Agents and Use Cases: Link: Exploring Agentic Frameworks: Link: Understanding Agentic Design Patterns: Link: Tool Use Design Pattern: Link: Agentic RAG: Link: Building Trustworty AI Agents: Link: Planning Design Pattern: Link: Multi-Agent Design Pattern: Link: Metacognition Design Pattern: Link: AI Agents in Production: Link AI agents are not a passing trend. They are changing how businesses operate. Most business leaders waste time on tasks that should be automated, but AI agents handle those tasks so you can focus ... Limitations of AI Agents. AI agents have undoubtedly transformed many industries, but they come with limitations that impact their reliability, adaptability, and ethical use. Here are some of the main limitations: Limited Understanding of Context Many AI agents lack the deep understanding of context that humans have. An AI agent is a software program that can interact with its surroundings, gather information, and use that information to complete tasks on its own to achieve goals set by humans.. For instance, an AI agent on an online shopping platform can recommend products, answer customer questions, and process orders. If agent needs more information, it can ask users for additional details.\n"
          ]
        }
      ]
    },
    {
      "cell_type": "code",
      "source": [
        "def add(a:int , b:int)-> int:\n",
        "  \"\"\" Adds a and b \"\"\"\n",
        "  return a+b\n",
        "\n",
        "def multiply(a:int , b:int)-> int:\n",
        "  \"\"\" multiply a and b \"\"\"\n",
        "  return a * b"
      ],
      "metadata": {
        "id": "uoLOCo_u86u-"
      },
      "execution_count": 8,
      "outputs": []
    },
    {
      "cell_type": "code",
      "source": [
        "from langchain_anthropic import ChatAnthropic\n",
        "llm = ChatAnthropic(model='claude-3-7-sonnet-latest')"
      ],
      "metadata": {
        "id": "wUbGer-N9Sz3"
      },
      "execution_count": 9,
      "outputs": []
    },
    {
      "cell_type": "code",
      "source": [
        "llm.invoke(\"Hii\").content"
      ],
      "metadata": {
        "colab": {
          "base_uri": "https://localhost:8080/",
          "height": 35
        },
        "id": "nDrKRou99ntK",
        "outputId": "22c85a73-ecc5-4603-c776-fa0fa1e10bbb"
      },
      "execution_count": 10,
      "outputs": [
        {
          "output_type": "execute_result",
          "data": {
            "text/plain": [
              "\"Hello! How can I assist you today? I'm here to help with any questions or tasks you might have.\""
            ],
            "application/vnd.google.colaboratory.intrinsic+json": {
              "type": "string"
            }
          },
          "metadata": {},
          "execution_count": 10
        }
      ]
    },
    {
      "cell_type": "code",
      "source": [
        "tools = [search_duckduckgo, add, multiply]\n",
        "\n",
        "llm_with_tools = llm.bind_tools(tools)"
      ],
      "metadata": {
        "id": "Gzv0TPGP9qsK"
      },
      "execution_count": 11,
      "outputs": []
    },
    {
      "cell_type": "code",
      "source": [
        "def chatbot(state: State):\n",
        "  return {\"messages\": [llm_with_tools.invoke(state[\"messages\"])]}\n"
      ],
      "metadata": {
        "id": "dlGR2enZ-HWh"
      },
      "execution_count": 12,
      "outputs": []
    },
    {
      "cell_type": "code",
      "source": [
        "from langgraph.prebuilt import ToolNode, tools_condition\n",
        "\n",
        "graph_builder = StateGraph(State)\n",
        "\n",
        "# Define nodes\n",
        "graph_builder.add_node(\"assistant\",chatbot)\n",
        "graph_builder.add_node(\"tools\",ToolNode(tools))\n",
        "\n",
        "# Define edges\n",
        "graph_builder.add_edge(START,\"assistant\")\n",
        "graph_builder.add_conditional_edges(\"assistant\",tools_condition)\n",
        "graph_builder.add_edge(\"tools\",\"assistant\")\n",
        "\n",
        "react_graph = graph_builder.compile()"
      ],
      "metadata": {
        "id": "pgdJP-Z5-Hs0"
      },
      "execution_count": 13,
      "outputs": []
    },
    {
      "cell_type": "code",
      "source": [
        "# To see the graph’s connection visually\n",
        "\n",
        "display(Image(react_graph.get_graph().draw_mermaid_png()))"
      ],
      "metadata": {
        "colab": {
          "base_uri": "https://localhost:8080/",
          "height": 266
        },
        "id": "6n7gAiSG-rjr",
        "outputId": "f57b6dbc-1cf9-4e30-9352-04422372305f"
      },
      "execution_count": 14,
      "outputs": [
        {
          "output_type": "display_data",
          "data": {
            "image/png": "[encoded data removed]",
            "text/plain": [
              "<IPython.core.display.Image object>"
            ]
          },
          "metadata": {}
        }
      ]
    },
    {
      "cell_type": "code",
      "source": [
        "response = react_graph.invoke({\"messages\": [HumanMessage(content=\"what is the weather in delhi. Multiply it by 2 and add 5.\")]})\n",
        "print(response[\"messages\"])"
      ],
      "metadata": {
        "colab": {
          "base_uri": "https://localhost:8080/"
        },
        "id": "5TKLLCZY_7wD",
        "outputId": "c5b5115d-5a21-41a9-bf49-3a57fbef6780"
      },
      "execution_count": 15,
      "outputs": [
        {
          "output_type": "stream",
          "name": "stdout",
          "text": [
            "[HumanMessage(content='what is the weather in delhi. Multiply it by 2 and add 5.', additional_kwargs={}, response_metadata={}, id='ba37f3b3-2c2d-4ef7-81bb-159b8305e883'), AIMessage(content=[{'text': \"I can help you with the multiplication and addition part of your request, but I don't have a direct tool to check the weather in Delhi. Let me search for the current weather information first, and then I can perform the mathematical operations you requested.\", 'type': 'text'}, {'id': 'toolu_01Rp3iiwjq2YipQrHdo6gmPh', 'input': {'query': 'current temperature in Delhi India'}, 'name': 'search_duckduckgo', 'type': 'tool_use'}], additional_kwargs={}, response_metadata={'id': 'msg_016zsEV8vYxDa9CBEEGYQ9UL', 'model': 'claude-3-7-sonnet-latest', 'stop_reason': 'tool_use', 'stop_sequence': None, 'usage': {'cache_creation_input_tokens': 0, 'cache_read_input_tokens': 0, 'input_tokens': 541, 'output_tokens': 112, 'server_tool_use': None}, 'model_name': 'claude-3-7-sonnet-latest'}, id='run--63487cb9-c4fb-4af6-b200-3452ac611520-0', tool_calls=[{'name': 'search_duckduckgo', 'args': {'query': 'current temperature in Delhi India'}, 'id': 'toolu_01Rp3iiwjq2YipQrHdo6gmPh', 'type': 'tool_call'}], usage_metadata={'input_tokens': 541, 'output_tokens': 112, 'total_tokens': 653, 'input_token_details': {'cache_read': 0, 'cache_creation': 0}}), ToolMessage(content=\"In New Delhi, at the moment, the city appears faded under a veil of light haze. The temperature is a hot 32°C, with the real-feel temperature closely matching at 33°C.The current temperature is relatively far from the maximum of 41°C predicted for today. Delhi, India Weather. Current: 25.06°C/77.11°F, Wind SW at 26.96 km/h, 65% Humidity, 0% Chance of rain. Delhi, India Weather; Current conditions; Weather forecast; Averages and extremes; Yesterday's Data; Temperature and possibility of rain in Delhi over the next 12 hours; Get today's real-time weather updates in New Delhi with hourly temperatures and a weekly forecast. Find out about New Delhi's temperature trends, rain chances, air quality (AQI), and humidity ... New Delhi, Delhi, India Weather Conditions star_ratehome. 83 ... Current Station. Personal Weather Station. Safdarjung Airport (VIDD) Location: New Delhi, Delhi, India. Nearby Weather Stations. The minimum temperature in Delhi today is likely to hover around 33 degrees Celsius, while the maximum temperature might reach 44 degrees Celsius. The mercury level is expected to hover around 42 degrees Celsius throughout the day, with the wind speed around 5.27.\", name='search_duckduckgo', id='c4fe01a2-87a6-4fc8-9ff6-48b184a20f49', tool_call_id='toolu_01Rp3iiwjq2YipQrHdo6gmPh'), AIMessage(content=[{'text': \"Based on the search results, I can see that the current temperature in Delhi, India varies across different sources, but I'll use 32°C from the most definitive statement in the search results.\\n\\nNow I'll perform the mathematical operations you requested:\\n1. Multiply the temperature by 2\\n2. Add 5\", 'type': 'text'}, {'id': 'toolu_01Rqfyb4uFUgjXpUUr6W4Ypv', 'input': {'a': 32, 'b': 2}, 'name': 'multiply', 'type': 'tool_use'}], additional_kwargs={}, response_metadata={'id': 'msg_01RrRSHtJJyXvsNbjL1Q6VBX', 'model': 'claude-3-7-sonnet-latest', 'stop_reason': 'tool_use', 'stop_sequence': None, 'usage': {'cache_creation_input_tokens': 0, 'cache_read_input_tokens': 0, 'input_tokens': 963, 'output_tokens': 138, 'server_tool_use': None}, 'model_name': 'claude-3-7-sonnet-latest'}, id='run--21f6dc23-7562-4548-b171-bd46b74441b2-0', tool_calls=[{'name': 'multiply', 'args': {'a': 32, 'b': 2}, 'id': 'toolu_01Rqfyb4uFUgjXpUUr6W4Ypv', 'type': 'tool_call'}], usage_metadata={'input_tokens': 963, 'output_tokens': 138, 'total_tokens': 1101, 'input_token_details': {'cache_read': 0, 'cache_creation': 0}}), ToolMessage(content='64', name='multiply', id='c84c0ff9-76f7-4bef-a205-637b9713bc9a', tool_call_id='toolu_01Rqfyb4uFUgjXpUUr6W4Ypv'), AIMessage(content=[{'id': 'toolu_01G8J2hxWWW3Fg6moSVDZJuv', 'input': {'a': 64, 'b': 5}, 'name': 'add', 'type': 'tool_use'}], additional_kwargs={}, response_metadata={'id': 'msg_01PeeCPSMGGPNBsqXJJEDeKj', 'model': 'claude-3-7-sonnet-latest', 'stop_reason': 'tool_use', 'stop_sequence': None, 'usage': {'cache_creation_input_tokens': 0, 'cache_read_input_tokens': 0, 'input_tokens': 1113, 'output_tokens': 69, 'server_tool_use': None}, 'model_name': 'claude-3-7-sonnet-latest'}, id='run--597e283f-8aeb-4b02-b20d-f2c7ea9079ef-0', tool_calls=[{'name': 'add', 'args': {'a': 64, 'b': 5}, 'id': 'toolu_01G8J2hxWWW3Fg6moSVDZJuv', 'type': 'tool_call'}], usage_metadata={'input_tokens': 1113, 'output_tokens': 69, 'total_tokens': 1182, 'input_token_details': {'cache_read': 0, 'cache_creation': 0}}), ToolMessage(content='69', name='add', id='3b8d889f-67a2-450c-a385-4ea6e7117f89', tool_call_id='toolu_01G8J2hxWWW3Fg6moSVDZJuv'), AIMessage(content='The current temperature in Delhi is approximately 32°C.\\nWhen multiplied by 2, that gives us 64.\\nAfter adding 5, the final result is 69.', additional_kwargs={}, response_metadata={'id': 'msg_013phtsH3CLbdDgzvFTsuxd1', 'model': 'claude-3-7-sonnet-latest', 'stop_reason': 'end_turn', 'stop_sequence': None, 'usage': {'cache_creation_input_tokens': 0, 'cache_read_input_tokens': 0, 'input_tokens': 1194, 'output_tokens': 43, 'server_tool_use': None}, 'model_name': 'claude-3-7-sonnet-latest'}, id='run--bced36f3-075b-4f8c-9f56-14e88b9e2e8a-0', usage_metadata={'input_tokens': 1194, 'output_tokens': 43, 'total_tokens': 1237, 'input_token_details': {'cache_read': 0, 'cache_creation': 0}})]\n"
          ]
        }
      ]
    },
    {
      "cell_type": "code",
      "source": [
        "for m in response['messages']:\n",
        "  m.pretty_print()"
      ],
      "metadata": {
        "colab": {
          "base_uri": "https://localhost:8080/"
        },
        "id": "MkPXpQH_AIB8",
        "outputId": "c75e260b-63b5-473f-d530-8ce3864fc6fe"
      },
      "execution_count": 16,
      "outputs": [
        {
          "output_type": "stream",
          "name": "stdout",
          "text": [
            "================================\u001b[1m Human Message \u001b[0m=================================\n",
            "\n",
            "what is the weather in delhi. Multiply it by 2 and add 5.\n",
            "==================================\u001b[1m Ai Message \u001b[0m==================================\n",
            "\n",
            "[{'text': \"I can help you with the multiplication and addition part of your request, but I don't have a direct tool to check the weather in Delhi. Let me search for the current weather information first, and then I can perform the mathematical operations you requested.\", 'type': 'text'}, {'id': 'toolu_01Rp3iiwjq2YipQrHdo6gmPh', 'input': {'query': 'current temperature in Delhi India'}, 'name': 'search_duckduckgo', 'type': 'tool_use'}]\n",
            "Tool Calls:\n",
            "  search_duckduckgo (toolu_01Rp3iiwjq2YipQrHdo6gmPh)\n",
            " Call ID: toolu_01Rp3iiwjq2YipQrHdo6gmPh\n",
            "  Args:\n",
            "    query: current temperature in Delhi India\n",
            "=================================\u001b[1m Tool Message \u001b[0m=================================\n",
            "Name: search_duckduckgo\n",
            "\n",
            "In New Delhi, at the moment, the city appears faded under a veil of light haze. The temperature is a hot 32°C, with the real-feel temperature closely matching at 33°C.The current temperature is relatively far from the maximum of 41°C predicted for today. Delhi, India Weather. Current: 25.06°C/77.11°F, Wind SW at 26.96 km/h, 65% Humidity, 0% Chance of rain. Delhi, India Weather; Current conditions; Weather forecast; Averages and extremes; Yesterday's Data; Temperature and possibility of rain in Delhi over the next 12 hours; Get today's real-time weather updates in New Delhi with hourly temperatures and a weekly forecast. Find out about New Delhi's temperature trends, rain chances, air quality (AQI), and humidity ... New Delhi, Delhi, India Weather Conditions star_ratehome. 83 ... Current Station. Personal Weather Station. Safdarjung Airport (VIDD) Location: New Delhi, Delhi, India. Nearby Weather Stations. The minimum temperature in Delhi today is likely to hover around 33 degrees Celsius, while the maximum temperature might reach 44 degrees Celsius. The mercury level is expected to hover around 42 degrees Celsius throughout the day, with the wind speed around 5.27.\n",
            "==================================\u001b[1m Ai Message \u001b[0m==================================\n",
            "\n",
            "[{'text': \"Based on the search results, I can see that the current temperature in Delhi, India varies across different sources, but I'll use 32°C from the most definitive statement in the search results.\\n\\nNow I'll perform the mathematical operations you requested:\\n1. Multiply the temperature by 2\\n2. Add 5\", 'type': 'text'}, {'id': 'toolu_01Rqfyb4uFUgjXpUUr6W4Ypv', 'input': {'a': 32, 'b': 2}, 'name': 'multiply', 'type': 'tool_use'}]\n",
            "Tool Calls:\n",
            "  multiply (toolu_01Rqfyb4uFUgjXpUUr6W4Ypv)\n",
            " Call ID: toolu_01Rqfyb4uFUgjXpUUr6W4Ypv\n",
            "  Args:\n",
            "    a: 32\n",
            "    b: 2\n",
            "=================================\u001b[1m Tool Message \u001b[0m=================================\n",
            "Name: multiply\n",
            "\n",
            "64\n",
            "==================================\u001b[1m Ai Message \u001b[0m==================================\n",
            "\n",
            "[{'id': 'toolu_01G8J2hxWWW3Fg6moSVDZJuv', 'input': {'a': 64, 'b': 5}, 'name': 'add', 'type': 'tool_use'}]\n",
            "Tool Calls:\n",
            "  add (toolu_01G8J2hxWWW3Fg6moSVDZJuv)\n",
            " Call ID: toolu_01G8J2hxWWW3Fg6moSVDZJuv\n",
            "  Args:\n",
            "    a: 64\n",
            "    b: 5\n",
            "=================================\u001b[1m Tool Message \u001b[0m=================================\n",
            "Name: add\n",
            "\n",
            "69\n",
            "==================================\u001b[1m Ai Message \u001b[0m==================================\n",
            "\n",
            "The current temperature in Delhi is approximately 32°C.\n",
            "When multiplied by 2, that gives us 64.\n",
            "After adding 5, the final result is 69.\n"
          ]
        }
      ]
    },
    {
      "cell_type": "code",
      "source": [],
      "metadata": {
        "id": "FPmQ_BamAPA7"
      },
      "execution_count": 16,
      "outputs": []
    }
  ]
}