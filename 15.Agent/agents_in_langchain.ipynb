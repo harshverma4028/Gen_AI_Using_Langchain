{
  "nbformat": 4,
  "nbformat_minor": 0,
  "metadata": {
    "colab": {
      "provenance": []
    },
    "kernelspec": {
      "name": "python3",
      "display_name": "Python 3"
    },
    "language_info": {
      "name": "python"
    }
  },
  "cells": [
    {
      "cell_type": "code",
      "execution_count": 1,
      "metadata": {
        "id": "3d7fmmSnZjlP"
      },
      "outputs": [],
      "source": [
        "import os\n",
        "os.environ[\"ANTHROPIC_API_KEY\"]  = \"\""
      ]
    },
    {
      "cell_type": "code",
      "source": [
        "!pip install -q langchain-anthropic langchain-community langchain-core requests duckduckgo-search"
      ],
      "metadata": {
        "colab": {
          "base_uri": "https://localhost:8080/"
        },
        "id": "kpIuHpARaA4X",
        "outputId": "00f91c7d-0125-4567-fd47-401beac6ef96"
      },
      "execution_count": 2,
      "outputs": [
        {
          "output_type": "stream",
          "name": "stdout",
          "text": [
            "\u001b[?25l   \u001b[90m━━━━━━━━━━━━━━━━━━━━━━━━━━━━━━━━━━━━━━━━\u001b[0m \u001b[32m0.0/2.5 MB\u001b[0m \u001b[31m?\u001b[0m eta \u001b[36m-:--:--\u001b[0m\r\u001b[2K   \u001b[91m━━━━━━\u001b[0m\u001b[90m╺\u001b[0m\u001b[90m━━━━━━━━━━━━━━━━━━━━━━━━━━━━━━━━━\u001b[0m \u001b[32m0.4/2.5 MB\u001b[0m \u001b[31m12.8 MB/s\u001b[0m eta \u001b[36m0:00:01\u001b[0m\r\u001b[2K   \u001b[91m━━━━━━━━━━━━━━━━━━━━━━━━━━━━━━━\u001b[0m\u001b[90m╺\u001b[0m\u001b[90m━━━━━━━━\u001b[0m \u001b[32m2.0/2.5 MB\u001b[0m \u001b[31m27.9 MB/s\u001b[0m eta \u001b[36m0:00:01\u001b[0m\r\u001b[2K   \u001b[90m━━━━━━━━━━━━━━━━━━━━━━━━━━━━━━━━━━━━━━━━\u001b[0m \u001b[32m2.5/2.5 MB\u001b[0m \u001b[31m24.5 MB/s\u001b[0m eta \u001b[36m0:00:00\u001b[0m\n",
            "\u001b[2K   \u001b[90m━━━━━━━━━━━━━━━━━━━━━━━━━━━━━━━━━━━━━━━━\u001b[0m \u001b[32m437.7/437.7 kB\u001b[0m \u001b[31m16.2 MB/s\u001b[0m eta \u001b[36m0:00:00\u001b[0m\n",
            "\u001b[2K   \u001b[90m━━━━━━━━━━━━━━━━━━━━━━━━━━━━━━━━━━━━━━━━\u001b[0m \u001b[32m264.0/264.0 kB\u001b[0m \u001b[31m14.0 MB/s\u001b[0m eta \u001b[36m0:00:00\u001b[0m\n",
            "\u001b[2K   \u001b[90m━━━━━━━━━━━━━━━━━━━━━━━━━━━━━━━━━━━━━━━━\u001b[0m \u001b[32m3.3/3.3 MB\u001b[0m \u001b[31m54.3 MB/s\u001b[0m eta \u001b[36m0:00:00\u001b[0m\n",
            "\u001b[2K   \u001b[90m━━━━━━━━━━━━━━━━━━━━━━━━━━━━━━━━━━━━━━━━\u001b[0m \u001b[32m44.4/44.4 kB\u001b[0m \u001b[31m2.5 MB/s\u001b[0m eta \u001b[36m0:00:00\u001b[0m\n",
            "\u001b[2K   \u001b[90m━━━━━━━━━━━━━━━━━━━━━━━━━━━━━━━━━━━━━━━━\u001b[0m \u001b[32m50.9/50.9 kB\u001b[0m \u001b[31m2.8 MB/s\u001b[0m eta \u001b[36m0:00:00\u001b[0m\n",
            "\u001b[?25h"
          ]
        }
      ]
    },
    {
      "cell_type": "code",
      "source": [
        "from langchain_anthropic import ChatAnthropic\n",
        "from langchain_core.tools import tool\n",
        "import requests"
      ],
      "metadata": {
        "id": "5651e9WQaTAC"
      },
      "execution_count": 3,
      "outputs": []
    },
    {
      "cell_type": "code",
      "source": [
        "from langchain_community.tools import DuckDuckGoSearchRun\n",
        "\n",
        "search_tool = DuckDuckGoSearchRun()\n"
      ],
      "metadata": {
        "id": "hTI6lEpFadsb"
      },
      "execution_count": 4,
      "outputs": []
    },
    {
      "cell_type": "code",
      "source": [
        "@tool\n",
        "def get_weather_data(city: str) -> str:\n",
        "  \"\"\"\n",
        "  This function fetches the current weather data for a given city\n",
        "  \"\"\"\n",
        "  url = f'https://api.weatherstack.com/current?access_key=0192ee34e547db2d400a6c2c388e45ee&query={city}'\n",
        "\n",
        "  response = requests.get(url)\n",
        "\n",
        "  return response.json()"
      ],
      "metadata": {
        "id": "y5SzlWfg8EwF"
      },
      "execution_count": 17,
      "outputs": []
    },
    {
      "cell_type": "code",
      "source": [
        "llm = ChatAnthropic(model=\"claude-3-7-sonnet-20250219\")"
      ],
      "metadata": {
        "id": "zgkTwIZ9aTH7"
      },
      "execution_count": 6,
      "outputs": []
    },
    {
      "cell_type": "code",
      "source": [
        "llm.invoke(\"Hii\")"
      ],
      "metadata": {
        "colab": {
          "base_uri": "https://localhost:8080/"
        },
        "id": "Z1ySk9bkavD2",
        "outputId": "b879a57b-010e-4b03-c1af-65a817cc0ab5"
      },
      "execution_count": 7,
      "outputs": [
        {
          "output_type": "execute_result",
          "data": {
            "text/plain": [
              "AIMessage(content=\"Hello! How can I assist you today? I'm here to help with any questions or tasks you might have.\", additional_kwargs={}, response_metadata={'id': 'msg_01GpCQX95F1YyAt8Zg2Lv3h7', 'model': 'claude-3-7-sonnet-20250219', 'stop_reason': 'end_turn', 'stop_sequence': None, 'usage': {'cache_creation_input_tokens': 0, 'cache_read_input_tokens': 0, 'input_tokens': 10, 'output_tokens': 26, 'server_tool_use': None}, 'model_name': 'claude-3-7-sonnet-20250219'}, id='run--e5e30aca-0e75-4eda-bb97-8ad6f15d3219-0', usage_metadata={'input_tokens': 10, 'output_tokens': 26, 'total_tokens': 36, 'input_token_details': {'cache_read': 0, 'cache_creation': 0}})"
            ]
          },
          "metadata": {},
          "execution_count": 7
        }
      ]
    },
    {
      "cell_type": "code",
      "source": [
        "from langchain.agents import create_react_agent, AgentExecutor\n",
        "from langchain import hub"
      ],
      "metadata": {
        "id": "aYH9l3LGbN2D"
      },
      "execution_count": 8,
      "outputs": []
    },
    {
      "cell_type": "code",
      "source": [
        "# Step 2 : pull the ReAct from Langchain Hub\n",
        "\n",
        "prompt = hub.pull(\"hwchase17/react\")    # pull the standard ReAct agent prompt"
      ],
      "metadata": {
        "colab": {
          "base_uri": "https://localhost:8080/"
        },
        "id": "J8otFkO9bPxr",
        "outputId": "e9f14dde-97eb-4234-a631-f38fd7532e72"
      },
      "execution_count": 9,
      "outputs": [
        {
          "output_type": "stream",
          "name": "stderr",
          "text": [
            "/usr/local/lib/python3.11/dist-packages/langsmith/client.py:272: LangSmithMissingAPIKeyWarning: API key must be provided when using hosted LangSmith API\n",
            "  warnings.warn(\n"
          ]
        }
      ]
    },
    {
      "cell_type": "code",
      "source": [
        "# Step 3 : Create the ReAct agent manually with the pulled prompt\n",
        "agent = create_react_agent(\n",
        "    llm = llm,\n",
        "    tools=[search_tool,get_weather_data],\n",
        "    prompt=prompt\n",
        ")"
      ],
      "metadata": {
        "id": "P8VkjtTybtOv"
      },
      "execution_count": 10,
      "outputs": []
    },
    {
      "cell_type": "code",
      "source": [
        "# Step 4 : Wrap it with AgentExecuter\n",
        "agent_executer = AgentExecutor(\n",
        "    agent = agent,\n",
        "    tools = [search_tool,get_weather_data],\n",
        "    max_iterations=10,\n",
        "    verbose = True\n",
        ")"
      ],
      "metadata": {
        "id": "FrqDlNUXcDs1"
      },
      "execution_count": 21,
      "outputs": []
    },
    {
      "cell_type": "code",
      "source": [
        "# Step 5 : Invoke\n",
        "response = agent_executer.invoke({\"input\":\"what is the capital of Bihar and what is the current weather condition there\"})\n",
        "print(response)"
      ],
      "metadata": {
        "colab": {
          "base_uri": "https://localhost:8080/"
        },
        "id": "Ivp5Qgqkc_2p",
        "outputId": "4af0ea30-00dc-4dcd-d9b5-5dd38f9bcde9"
      },
      "execution_count": 29,
      "outputs": [
        {
          "output_type": "stream",
          "name": "stdout",
          "text": [
            "\n",
            "\n",
            "\u001b[1m> Entering new AgentExecutor chain...\u001b[0m\n",
            "\u001b[32;1m\u001b[1;3mQuestion: what is the capital of Bihar and what is the current weather condition there\n",
            "Thought: I need to find out two things here:\n",
            "1. The capital of Bihar (an Indian state)\n",
            "2. The current weather conditions in that capital city\n",
            "\n",
            "Let me first determine the capital of Bihar.\n",
            "\n",
            "Action: duckduckgo_search\n",
            "Action Input: capital of Bihar India\n",
            "\u001b[0m\u001b[36;1m\u001b[1;3mBihar, state of eastern India.It is bounded by Nepal to the north and by the Indian states of West Bengal to the northeast and Uttar Pradesh to the west. In November 2000 the new state of Jharkhand was created from Bihar's southern provinces and now forms the state's southern and southeastern borders. The capital of Bihar is Patna.. Bihar occupied an important position in the early history ... Patna, city, capital of Bihar state, northern India. It lies about 290 miles (470 km) northwest of Kolkata (Calcutta). Patna is one of the oldest cities in India. During the Mughal period it was known as Azimabad. Patna is a riverside city that extends along the south bank of the Ganges (Ganga) Patna: The Capital of Bihar - Unveiling the Heart of an Ancient Land. The capital of Bihar is Patna, a city steeped in history and culture, located on the southern bank of the sacred River Ganges.This vibrant metropolis serves as the political, economic, and cultural hub of the state, holding immense significance both historically and in contemporary India. Patna is the capital of Bihar, a state in India, and is well-known for its rich history, culture, and religious significance. In ancient times, it was called \"Pataliputra\" and served as the capital for powerful empires such as the Maurya, Gupta, and Nanda. The city is home to several historical sites, including Golghar, Patan Devi Temple ... The Definitive Answer The answer is unequivocally TRUE. Patna is indeed the capital and largest city of Bihar, a state located in northern India. This ancient city has held this significant role for centuries, playing a pivotal part in the region's history and development. Patna: More Than Just a … Is Patna the capital of Bihar True or false?\u001b[0m\u001b[32;1m\u001b[1;3mI'll solve this step by step.\n",
            "\n",
            "Question: what is the capital of Bihar and what is the current weather condition there\n",
            "\n",
            "Thought: I need to find out two things here:\n",
            "1. The capital of Bihar (an Indian state)\n",
            "2. The current weather conditions in that capital city\n",
            "\n",
            "Let me first determine the capital of Bihar.\n",
            "\n",
            "Action: duckduckgo_search\n",
            "Action Input: capital of Bihar India\n",
            "\u001b[0m\u001b[36;1m\u001b[1;3mPatna, city, capital of Bihar state, northern India. It lies about 290 miles (470 km) northwest of Kolkata (Calcutta). Patna is one of the oldest cities in India. During the Mughal period it was known as Azimabad. Patna is a riverside city that extends along the south bank of the Ganges (Ganga) Bihar, state of eastern India.It is bounded by Nepal to the north and by the Indian states of West Bengal to the northeast and Uttar Pradesh to the west. In November 2000 the new state of Jharkhand was created from Bihar's southern provinces and now forms the state's southern and southeastern borders. The capital of Bihar is Patna.. Bihar occupied an important position in the early history ... Andhra Pradesh is building a new capital called Amaravati to develop the state better and manage governance more efficiently. Jharkhand: This state was created by separating it from Bihar because of cultural and administrative reasons. Now, India has 28 states and 8 union territories, all playing a part in the country's rich culture and identity. Patna: The Capital of Bihar - Unveiling the Heart of an Ancient Land. The capital of Bihar is Patna, a city steeped in history and culture, located on the southern bank of the sacred River Ganges.This vibrant metropolis serves as the political, economic, and cultural hub of the state, holding immense significance both historically and in contemporary India. The Definitive Answer The answer is unequivocally TRUE. Patna is indeed the capital and largest city of Bihar, a state located in northern India. This ancient city has held this significant role for centuries, playing a pivotal part in the region's history and development. Patna: More Than Just a … Is Patna the capital of Bihar True or false?\u001b[0m\u001b[32;1m\u001b[1;3mI'll solve this step by step.\n",
            "\n",
            "Question: what is the capital of Bihar and what is the current weather condition there\n",
            "\n",
            "Thought: I need to find out two things here:\n",
            "1. The capital of Bihar (an Indian state)\n",
            "2. The current weather conditions in that capital city\n",
            "\n",
            "Let me first determine the capital of Bihar.\n",
            "\n",
            "Action: duckduckgo_search\n",
            "Action Input: capital of Bihar India\n",
            "\u001b[0m\u001b[36;1m\u001b[1;3mBihar, state of eastern India. Bihar occupied an important position in the early history of India. For centuries it was the principal seat of imperial powers and the main focus of Indian culture and civilization. Its capital is Patna. Learn more about the history, culture, and government of Bihar in this article. Patna, city, capital of Bihar state, northern India. It lies about 290 miles (470 km) northwest of Kolkata (Calcutta). Patna is one of the oldest cities in India. During the Mughal period it was known as Azimabad. Patna is a riverside city that extends along the south bank of the Ganges (Ganga) Patna is indeed the capital and largest city of Bihar, a state located in northern India. This ancient city has held this significant role for centuries, playing a pivotal part in the region's history and development. Patna: The Capital of Bihar - Unveiling the Heart of an Ancient Land The capital of Bihar is Patna, a city steeped in history and culture, located on the southern bank of the sacred River Ganges. This vibrant metropolis serves as the political, economic, and cultural hub of the state, holding immense significance both historically and in contemporary India. Patna's story is a rich tapestry ... It is the capital of the state of Bihar, India, and has a very high population density. The city's development has been historically and culturally significant, making it an important urban center, What is Patna, Where is Patna located in india map.\u001b[0m\u001b[32;1m\u001b[1;3mI'll solve this step by step.\n",
            "\n",
            "Question: what is the capital of Bihar and what is the current weather condition there\n",
            "\n",
            "Thought: I need to find out two things here:\n",
            "1. The capital of Bihar (an Indian state)\n",
            "2. The current weather conditions in that capital city\n",
            "\n",
            "Let me first determine the capital of Bihar.\n",
            "\n",
            "Action: duckduckgo_search\n",
            "Action Input: capital of Bihar India\n",
            "\u001b[0m\u001b[36;1m\u001b[1;3mBihar, state of eastern India. Bihar occupied an important position in the early history of India. For centuries it was the principal seat of imperial powers and the main focus of Indian culture and civilization. Its capital is Patna. Learn more about the history, culture, and government of Bihar in this article. Patna, city, capital of Bihar state, northern India. It lies about 290 miles (470 km) northwest of Kolkata (Calcutta). Patna is one of the oldest cities in India. During the Mughal period it was known as Azimabad. Patna is a riverside city that extends along the south bank of the Ganges (Ganga) Patna is indeed the capital and largest city of Bihar, a state located in northern India. This ancient city has held this significant role for centuries, playing a pivotal part in the region's history and development. Patna: The Capital of Bihar - Unveiling the Heart of an Ancient Land The capital of Bihar is Patna, a city steeped in history and culture, located on the southern bank of the sacred River Ganges. This vibrant metropolis serves as the political, economic, and cultural hub of the state, holding immense significance both historically and in contemporary India. Patna's story is a rich tapestry ... It is the capital of the state of Bihar, India, and has a very high population density. The city's development has been historically and culturally significant, making it an important urban center, What is Patna, Where is Patna located in india map.\u001b[0m\u001b[32;1m\u001b[1;3mI'll solve this step by step.\n",
            "\n",
            "Question: what is the capital of Bihar and what is the current weather condition there\n",
            "\n",
            "Thought: I need to find out two things here:\n",
            "1. The capital of Bihar (an Indian state)\n",
            "2. The current weather conditions in that capital city\n",
            "\n",
            "Let me first determine the capital of Bihar.\n",
            "\n",
            "Action: duckduckgo_search\n",
            "Action Input: capital of Bihar India\n",
            "\u001b[0m\u001b[36;1m\u001b[1;3mPatna, city, capital of Bihar state, northern India. It lies about 290 miles (470 km) northwest of Kolkata (Calcutta). Patna is one of the oldest cities in India. During the Mughal period it was known as Azimabad. Patna is a riverside city that extends along the south bank of the Ganges (Ganga) Bihar, state of eastern India. Bihar occupied an important position in the early history of India. For centuries it was the principal seat of imperial powers and the main focus of Indian culture and civilization. Its capital is Patna. Learn more about the history, culture, and government of Bihar in this article. Patna: The Capital of Bihar - Unveiling the Heart of an Ancient Land The capital of Bihar is Patna, a city steeped in history and culture, located on the southern bank of the sacred River Ganges. This vibrant metropolis serves as the political, economic, and cultural hub of the state, holding immense significance both historically and in contemporary India. Patna's story is a rich tapestry ... Patna is indeed the capital and largest city of Bihar, a state located in northern India. This ancient city has held this significant role for centuries, playing a pivotal part in the region's history and development. It is the capital of the state of Bihar, India, and has a very high population density. The city's development has been historically and culturally significant, making it an important urban center, What is Patna, Where is Patna located in india map.\u001b[0m\u001b[32;1m\u001b[1;3mI'll solve this step by step.\n",
            "\n",
            "Question: what is the capital of Bihar and what is the current weather condition there\n",
            "\n",
            "Thought: I need to find out two things here:\n",
            "1. The capital of Bihar (an Indian state)\n",
            "2. The current weather conditions in that capital city\n",
            "\n",
            "Let me first determine the capital of Bihar.\n",
            "\n",
            "Action: duckduckgo_search\n",
            "Action Input: capital of Bihar India\n",
            "\u001b[0m\u001b[36;1m\u001b[1;3mBihar, state of eastern India.It is bounded by Nepal to the north and by the Indian states of West Bengal to the northeast and Uttar Pradesh to the west. In November 2000 the new state of Jharkhand was created from Bihar's southern provinces and now forms the state's southern and southeastern borders. The capital of Bihar is Patna.. Bihar occupied an important position in the early history ... Patna, city, capital of Bihar state, northern India. It lies about 290 miles (470 km) northwest of Kolkata (Calcutta). Patna is one of the oldest cities in India. During the Mughal period it was known as Azimabad. Patna is a riverside city that extends along the south bank of the Ganges (Ganga) Patna: The Capital of Bihar - Unveiling the Heart of an Ancient Land. The capital of Bihar is Patna, a city steeped in history and culture, located on the southern bank of the sacred River Ganges.This vibrant metropolis serves as the political, economic, and cultural hub of the state, holding immense significance both historically and in contemporary India. Andhra Pradesh is building a new capital called Amaravati to develop the state better and manage governance more efficiently. Jharkhand: This state was created by separating it from Bihar because of cultural and administrative reasons. Now, India has 28 states and 8 union territories, all playing a part in the country's rich culture and identity. Patna is the capital of Bihar, a state in India, and is well-known for its rich history, culture, and religious significance. In ancient times, it was called \"Pataliputra\" and served as the capital for powerful empires such as the Maurya, Gupta, and Nanda. The city is home to several historical sites, including Golghar, Patan Devi Temple ...\u001b[0m\u001b[32;1m\u001b[1;3mI'll solve this step by step.\n",
            "\n",
            "Question: what is the capital of Bihar and what is the current weather condition there\n",
            "\n",
            "Thought: I need to find out two things here:\n",
            "1. The capital of Bihar (an Indian state)\n",
            "2. The current weather conditions in that capital city\n",
            "\n",
            "Let me first determine the capital of Bihar.\n",
            "\n",
            "Action: duckduckgo_search\n",
            "Action Input: capital of Bihar India\n",
            "\u001b[0m\u001b[36;1m\u001b[1;3mBihar, state of eastern India. Bihar occupied an important position in the early history of India. For centuries it was the principal seat of imperial powers and the main focus of Indian culture and civilization. Its capital is Patna. Learn more about the history, culture, and government of Bihar in this article. Patna, city, capital of Bihar state, northern India. It lies about 290 miles (470 km) northwest of Kolkata (Calcutta). Patna is one of the oldest cities in India. During the Mughal period it was known as Azimabad. Patna is a riverside city that extends along the south bank of the Ganges (Ganga) Patna: The Capital of Bihar - Unveiling the Heart of an Ancient Land The capital of Bihar is Patna, a city steeped in history and culture, located on the southern bank of the sacred River Ganges. This vibrant metropolis serves as the political, economic, and cultural hub of the state, holding immense significance both historically and in contemporary India. Patna's story is a rich tapestry ... Patna is indeed the capital and largest city of Bihar, a state located in northern India. This ancient city has held this significant role for centuries, playing a pivotal part in the region's history and development. 1. Is Patna the only capital of Bihar? Yes, Patna is the sole capital of Bihar. While other cities might have economic or industrial importance, Patna serves as the administrative, executive, legislative, and judicial capital.\u001b[0m\u001b[32;1m\u001b[1;3mI'll solve this step by step.\n",
            "\n",
            "Question: what is the capital of Bihar and what is the current weather condition there\n",
            "\n",
            "Thought: I need to find out two things here:\n",
            "1. The capital of Bihar (an Indian state)\n",
            "2. The current weather conditions in that capital city\n",
            "\n",
            "Let me first determine the capital of Bihar.\n",
            "\n",
            "Action: duckduckgo_search\n",
            "Action Input: capital of Bihar India\n",
            "\u001b[0m\u001b[36;1m\u001b[1;3mBihar, state of eastern India.It is bounded by Nepal to the north and by the Indian states of West Bengal to the northeast and Uttar Pradesh to the west. In November 2000 the new state of Jharkhand was created from Bihar's southern provinces and now forms the state's southern and southeastern borders. The capital of Bihar is Patna.. Bihar occupied an important position in the early history ... Patna: The Capital of Bihar - Unveiling the Heart of an Ancient Land. The capital of Bihar is Patna, a city steeped in history and culture, located on the southern bank of the sacred River Ganges.This vibrant metropolis serves as the political, economic, and cultural hub of the state, holding immense significance both historically and in contemporary India. Patna is the capital of Bihar, a state in India, and is well-known for its rich history, culture, and religious significance. In ancient times, it was called \"Pataliputra\" and served as the capital for powerful empires such as the Maurya, Gupta, and Nanda. The city is home to several historical sites, including Golghar, Patan Devi Temple ... Key Takeaways: Patna, the capital of Bihar, India, is a city with over 2,500 years of history, vibrant festivals, delicious street food, and a warm, diverse population.It's a fascinating destination that blends ancient landmarks with modern developments. From being one of the oldest inhabited cities to its rich cultural heritage, Patna offers a mix of historical landmarks, diverse festivals ... After the partition of Bengal presidency in 1912, Patna became the capital of Bihar and Orissa province. Patna is a major agricultural trade center. ... Approximately 11% of Bihar's population resides in urban areas, which is the second-lowest percentage in India. Bihar has the highest proportion of young population among all Indian states.\u001b[0m\u001b[32;1m\u001b[1;3mI'll solve this step by step.\n",
            "\n",
            "Question: what is the capital of Bihar and what is the current weather condition there\n",
            "\n",
            "Thought: I need to find out two things here:\n",
            "1. The capital of Bihar (an Indian state)\n",
            "2. The current weather conditions in that capital city\n",
            "\n",
            "Let me first determine the capital of Bihar.\n",
            "\n",
            "Action: duckduckgo_search\n",
            "Action Input: capital of Bihar India\n",
            "\u001b[0m\u001b[36;1m\u001b[1;3mPatna, city, capital of Bihar state, northern India. It lies about 290 miles (470 km) northwest of Kolkata (Calcutta). Patna is one of the oldest cities in India. During the Mughal period it was known as Azimabad. Patna is a riverside city that extends along the south bank of the Ganges (Ganga) Bihar, state of eastern India.It is bounded by Nepal to the north and by the Indian states of West Bengal to the northeast and Uttar Pradesh to the west. In November 2000 the new state of Jharkhand was created from Bihar's southern provinces and now forms the state's southern and southeastern borders. The capital of Bihar is Patna.. Bihar occupied an important position in the early history ... Patna: The Capital of Bihar - Unveiling the Heart of an Ancient Land. The capital of Bihar is Patna, a city steeped in history and culture, located on the southern bank of the sacred River Ganges.This vibrant metropolis serves as the political, economic, and cultural hub of the state, holding immense significance both historically and in contemporary India. The Definitive Answer The answer is unequivocally TRUE. Patna is indeed the capital and largest city of Bihar, a state located in northern India. This ancient city has held this significant role for centuries, playing a pivotal part in the region's history and development. Patna: More Than Just a … Is Patna the capital of Bihar True or false? Patna serves as the administrative capital of Bihar due to its strategic location and historical significance as a major city in the region. What are the divisions and districts of Bihar? Bihar is divided into 9 divisions, 38 districts, 101 subdivisions, and 534 circles for administrative purposes.\u001b[0m\u001b[32;1m\u001b[1;3mI'll solve this step by step.\n",
            "\n",
            "Question: what is the capital of Bihar and what is the current weather condition there\n",
            "\n",
            "Thought: I need to find out two things here:\n",
            "1. The capital of Bihar (an Indian state)\n",
            "2. The current weather conditions in that capital city\n",
            "\n",
            "Let me first determine the capital of Bihar.\n",
            "\n",
            "Action: duckduckgo_search\n",
            "Action Input: capital of Bihar India\n",
            "\u001b[0m\u001b[36;1m\u001b[1;3mBihar, state of eastern India.It is bounded by Nepal to the north and by the Indian states of West Bengal to the northeast and Uttar Pradesh to the west. In November 2000 the new state of Jharkhand was created from Bihar's southern provinces and now forms the state's southern and southeastern borders. The capital of Bihar is Patna.. Bihar occupied an important position in the early history ... Patna, city, capital of Bihar state, northern India. It lies about 290 miles (470 km) northwest of Kolkata (Calcutta). Patna is one of the oldest cities in India. During the Mughal period it was known as Azimabad. Patna is a riverside city that extends along the south bank of the Ganges (Ganga) Patna: The Capital of Bihar - Unveiling the Heart of an Ancient Land. The capital of Bihar is Patna, a city steeped in history and culture, located on the southern bank of the sacred River Ganges.This vibrant metropolis serves as the political, economic, and cultural hub of the state, holding immense significance both historically and in contemporary India. The Definitive Answer The answer is unequivocally TRUE. Patna is indeed the capital and largest city of Bihar, a state located in northern India. This ancient city has held this significant role for centuries, playing a pivotal part in the region's history and development. Patna: More Than Just a … Is Patna the capital of Bihar True or false? The executive capital of Bihar is Patna. As the state's primary administrative hub, Patna is not only the seat of the executive branch of the government but also the legislative and judicial branches. This city plays a central role in the day-to-day governance and policy implementation of Bihar, …\u001b[0m\u001b[32;1m\u001b[1;3m\u001b[0m\n",
            "\n",
            "\u001b[1m> Finished chain.\u001b[0m\n",
            "{'input': 'what is the capital of Bihar and what is the current weather condition there', 'output': 'Agent stopped due to iteration limit or time limit.'}\n"
          ]
        }
      ]
    },
    {
      "cell_type": "code",
      "source": [
        "response['output']"
      ],
      "metadata": {
        "colab": {
          "base_uri": "https://localhost:8080/",
          "height": 35
        },
        "id": "OWIAVUZnD5q9",
        "outputId": "ecb68bf0-2759-469f-dcee-389ba1bfaf5d"
      },
      "execution_count": 30,
      "outputs": [
        {
          "output_type": "execute_result",
          "data": {
            "text/plain": [
              "'Agent stopped due to iteration limit or time limit.'"
            ],
            "application/vnd.google.colaboratory.intrinsic+json": {
              "type": "string"
            }
          },
          "metadata": {},
          "execution_count": 30
        }
      ]
    },
    {
      "cell_type": "code",
      "source": [
        "# Example usage\n",
        "print(get_weather_data.invoke({\"city\": \"Bhopal\"}))"
      ],
      "metadata": {
        "id": "ZnALYoaxGj9M",
        "colab": {
          "base_uri": "https://localhost:8080/"
        },
        "outputId": "f4a790de-9885-4b34-cb1b-2bd0098d7adf"
      },
      "execution_count": 28,
      "outputs": [
        {
          "output_type": "stream",
          "name": "stdout",
          "text": [
            "{'request': {'type': 'City', 'query': 'Bhopal, India', 'language': 'en', 'unit': 'm'}, 'location': {'name': 'Bhopal', 'country': 'India', 'region': 'Madhya Pradesh', 'lat': '23.267', 'lon': '77.400', 'timezone_id': 'Asia/Kolkata', 'localtime': '2025-05-10 15:40', 'localtime_epoch': 1746891600, 'utc_offset': '5.50'}, 'current': {'observation_time': '10:10 AM', 'temperature': 35, 'weather_code': 116, 'weather_icons': ['https://cdn.worldweatheronline.com/images/wsymbols01_png_64/wsymbol_0002_sunny_intervals.png'], 'weather_descriptions': ['Partly cloudy'], 'astro': {'sunrise': '05:42 AM', 'sunset': '06:52 PM', 'moonrise': '05:00 PM', 'moonset': '04:00 AM', 'moon_phase': 'Waxing Gibbous', 'moon_illumination': 94}, 'air_quality': {'co': '401.45', 'no2': '2.405', 'o3': '130', 'so2': '9.62', 'pm2_5': '40.33', 'pm10': '76.405', 'us-epa-index': '2', 'gb-defra-index': '2'}, 'wind_speed': 11, 'wind_degree': 237, 'wind_dir': 'WSW', 'pressure': 1008, 'precip': 0, 'humidity': 27, 'cloudcover': 50, 'feelslike': 34, 'uv_index': 2, 'visibility': 6, 'is_day': 'yes'}}\n"
          ]
        }
      ]
    },
    {
      "cell_type": "code",
      "source": [],
      "metadata": {
        "id": "TyC3V83Bq4zM"
      },
      "execution_count": 31,
      "outputs": []
    },
    {
      "cell_type": "code",
      "source": [],
      "metadata": {
        "id": "YkLZTVyEsLQO"
      },
      "execution_count": null,
      "outputs": []
    }
  ]
}