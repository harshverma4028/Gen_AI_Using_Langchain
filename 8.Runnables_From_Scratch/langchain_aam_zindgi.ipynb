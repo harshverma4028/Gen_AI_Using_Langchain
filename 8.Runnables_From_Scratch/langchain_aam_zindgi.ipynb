{
  "nbformat": 4,
  "nbformat_minor": 0,
  "metadata": {
    "colab": {
      "provenance": []
    },
    "kernelspec": {
      "name": "python3",
      "display_name": "Python 3"
    },
    "language_info": {
      "name": "python"
    }
  },
  "cells": [
    {
      "cell_type": "code",
      "execution_count": null,
      "metadata": {
        "id": "mOvJwFQxYqdK"
      },
      "outputs": [],
      "source": [
        "import random\n",
        "\n",
        "class NakliLLM:\n",
        "\n",
        "  def __init__(self):\n",
        "    print('LLM created')\n",
        "\n",
        "  def predict(self,prompt):\n",
        "\n",
        "    response_list = [\n",
        "        'delhi is the capital of india',\n",
        "        'IPL is a cricket league',\n",
        "        'AI stands for artificial Intellegence'\n",
        "    ]\n",
        "\n",
        "    return {'response':random.choice(response_list)}"
      ]
    },
    {
      "cell_type": "code",
      "source": [],
      "metadata": {
        "id": "KOBTHrdF77tZ"
      },
      "execution_count": null,
      "outputs": []
    },
    {
      "cell_type": "code",
      "source": [
        "class NakliPromptTemplate:\n",
        "\n",
        "  def __init__(self, template , input_variable):\n",
        "    self.template = template\n",
        "    self.input_variable = input_variable\n",
        "\n",
        "  def format(self,input_dict):\n",
        "    return self.template.format(**input_dict)"
      ],
      "metadata": {
        "id": "vWCN_38dZiPd"
      },
      "execution_count": null,
      "outputs": []
    },
    {
      "cell_type": "code",
      "source": [
        "template = NakliPromptTemplate(\n",
        "    template='write a {length} poem about {topic}',\n",
        "    input_variable=['length','topic']\n",
        ")"
      ],
      "metadata": {
        "id": "0KdWA2Z2ZlBc"
      },
      "execution_count": null,
      "outputs": []
    },
    {
      "cell_type": "code",
      "source": [
        "prompt = template.format({'length':'short','topic':'india'})"
      ],
      "metadata": {
        "id": "a4EDIfGCZ1gs"
      },
      "execution_count": null,
      "outputs": []
    },
    {
      "cell_type": "code",
      "source": [
        "llm = NakliLLM()"
      ],
      "metadata": {
        "colab": {
          "base_uri": "https://localhost:8080/"
        },
        "id": "NqdH30N3c-cT",
        "outputId": "0db17729-c495-4fe2-e5a9-ac1d5d167f4c"
      },
      "execution_count": null,
      "outputs": [
        {
          "output_type": "stream",
          "name": "stdout",
          "text": [
            "LLM created\n"
          ]
        }
      ]
    },
    {
      "cell_type": "code",
      "source": [
        "llm.predict(prompt)"
      ],
      "metadata": {
        "colab": {
          "base_uri": "https://localhost:8080/"
        },
        "id": "adYZ9F32dA4c",
        "outputId": "aec1fa98-0d2a-4175-cf0d-01c88ec13772"
      },
      "execution_count": null,
      "outputs": [
        {
          "output_type": "execute_result",
          "data": {
            "text/plain": [
              "{'response': 'delhi is the capital of india'}"
            ]
          },
          "metadata": {},
          "execution_count": 29
        }
      ]
    },
    {
      "cell_type": "code",
      "source": [
        "class NakliLLMChain:\n",
        "\n",
        "  def __init__(self , llm , prompt):\n",
        "    self.llm = llm\n",
        "    self.prompt = prompt\n",
        "\n",
        "  def run(self,input_dict):\n",
        "\n",
        "    final_prompt = self.prompt.format(input_dict)\n",
        "    result = self.llm.predict(final_prompt)\n",
        "\n",
        "    return result['response']"
      ],
      "metadata": {
        "id": "eYiP0Oj9dD1S"
      },
      "execution_count": null,
      "outputs": []
    },
    {
      "cell_type": "code",
      "source": [
        "template = NakliPromptTemplate(\n",
        "    template='write a {length} poem about {topic}',\n",
        "    input_variable=['length','topic']\n",
        ")"
      ],
      "metadata": {
        "id": "f765-oEeeM7K"
      },
      "execution_count": null,
      "outputs": []
    },
    {
      "cell_type": "code",
      "source": [
        "llm = NakliLLM()"
      ],
      "metadata": {
        "colab": {
          "base_uri": "https://localhost:8080/"
        },
        "id": "hravOHJpeN7z",
        "outputId": "841c0ce9-6b43-4d76-bcc5-d0498f1bfb38"
      },
      "execution_count": null,
      "outputs": [
        {
          "output_type": "stream",
          "name": "stdout",
          "text": [
            "LLM created\n"
          ]
        }
      ]
    },
    {
      "cell_type": "code",
      "source": [
        "chain = NakliLLMChain(llm, template)"
      ],
      "metadata": {
        "id": "T-gLPqnBeQpo"
      },
      "execution_count": null,
      "outputs": []
    },
    {
      "cell_type": "code",
      "source": [
        "chain.run({'length':'short','topic':'india'})"
      ],
      "metadata": {
        "colab": {
          "base_uri": "https://localhost:8080/",
          "height": 35
        },
        "id": "2n7nGYVWeVGw",
        "outputId": "9c6302b9-1d77-4d43-d6fe-ef3cfee43848"
      },
      "execution_count": null,
      "outputs": [
        {
          "output_type": "execute_result",
          "data": {
            "text/plain": [
              "'AI stands for artificial Intellegence'"
            ],
            "application/vnd.google.colaboratory.intrinsic+json": {
              "type": "string"
            }
          },
          "metadata": {},
          "execution_count": 37
        }
      ]
    },
    {
      "cell_type": "code",
      "source": [],
      "metadata": {
        "id": "F0aSjGAwxvFF"
      },
      "execution_count": null,
      "outputs": []
    }
  ]
}