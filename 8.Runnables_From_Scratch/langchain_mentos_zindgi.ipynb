{
  "nbformat": 4,
  "nbformat_minor": 0,
  "metadata": {
    "colab": {
      "provenance": []
    },
    "kernelspec": {
      "name": "python3",
      "display_name": "Python 3"
    },
    "language_info": {
      "name": "python"
    }
  },
  "cells": [
    {
      "cell_type": "code",
      "execution_count": null,
      "metadata": {
        "id": "K6UF33kb4aYt"
      },
      "outputs": [],
      "source": [
        "from abc import ABC, abstractmethod"
      ]
    },
    {
      "cell_type": "code",
      "source": [
        "class Runnable(ABC):\n",
        "\n",
        "  @abstractmethod\n",
        "  def invoke(input_data):\n",
        "    pass\n"
      ],
      "metadata": {
        "id": "mjLIur334_WJ"
      },
      "execution_count": null,
      "outputs": []
    },
    {
      "cell_type": "code",
      "source": [
        "import random\n",
        "\n",
        "class NakliLLM(Runnable):\n",
        "\n",
        "  def __init__(self):\n",
        "    print('LLM created')\n",
        "\n",
        "  def invoke(self,prompt):\n",
        "    response_list = [\n",
        "        'delhi is the capital of india',\n",
        "        'IPL is a cricket league',\n",
        "        'AI stands for artificial Intellegence'\n",
        "    ]\n",
        "\n",
        "    return {'response':random.choice(response_list)}\n",
        "\n",
        "  def predict(self,prompt):\n",
        "\n",
        "    response_list = [\n",
        "        'delhi is the capital of india',\n",
        "        'IPL is a cricket league',\n",
        "        'AI stands for artificial Intellegence'\n",
        "    ]\n",
        "\n",
        "    return {'response':random.choice(response_list)}"
      ],
      "metadata": {
        "id": "kODlTka148SM"
      },
      "execution_count": null,
      "outputs": []
    },
    {
      "cell_type": "code",
      "source": [
        "llm = NakliLLM()"
      ],
      "metadata": {
        "colab": {
          "base_uri": "https://localhost:8080/"
        },
        "id": "AHyxpfA68Ml2",
        "outputId": "9d5becdc-bb51-4bfc-d451-c3f61c8984e6"
      },
      "execution_count": null,
      "outputs": [
        {
          "output_type": "stream",
          "name": "stdout",
          "text": [
            "LLM created\n"
          ]
        }
      ]
    },
    {
      "cell_type": "code",
      "source": [
        "class NakliPromptTemplate(Runnable):\n",
        "\n",
        "  def __init__(self, template , input_variable):\n",
        "    self.template = template\n",
        "    self.input_variable = input_variable\n",
        "\n",
        "  def invoke(self,input_dict):\n",
        "    return self.template.format(**input_dict)\n",
        "\n",
        "  def format(self,input_dict):\n",
        "    return self.template.format(**input_dict)"
      ],
      "metadata": {
        "id": "Nl_eC0n54j2l"
      },
      "execution_count": null,
      "outputs": []
    },
    {
      "cell_type": "code",
      "source": [
        "class NaklistrOutputParser(Runnable):\n",
        "\n",
        "  def __init__(self):\n",
        "    pass\n",
        "  def invoke(self,input_data):\n",
        "    return input_data['response']"
      ],
      "metadata": {
        "id": "khFZ3GaABQka"
      },
      "execution_count": null,
      "outputs": []
    },
    {
      "cell_type": "code",
      "source": [
        "class RunnableConnector(Runnable):\n",
        "  def __init__(self,runnable_list):\n",
        "    self.runnable_list = runnable_list\n",
        "\n",
        "  def invoke(self , input_data):\n",
        "\n",
        "       for runnable in self.runnable_list:\n",
        "        input_data  = runnable.invoke(input_data)\n",
        "\n",
        "       return input_data"
      ],
      "metadata": {
        "id": "zeiBEI0A4pHQ"
      },
      "execution_count": null,
      "outputs": []
    },
    {
      "cell_type": "code",
      "source": [
        "template = NakliPromptTemplate(\n",
        "    template='write a {length} poem about {topic}',\n",
        "    input_variable=['length','topic']\n",
        ")"
      ],
      "metadata": {
        "id": "Bf0NU0I7A3Vn"
      },
      "execution_count": null,
      "outputs": []
    },
    {
      "cell_type": "code",
      "source": [
        "llm = NakliLLM()"
      ],
      "metadata": {
        "colab": {
          "base_uri": "https://localhost:8080/"
        },
        "id": "yOultyL_9_Mt",
        "outputId": "f9cc7871-2001-43db-e7af-6ded0fa83496"
      },
      "execution_count": null,
      "outputs": [
        {
          "output_type": "stream",
          "name": "stdout",
          "text": [
            "LLM created\n"
          ]
        }
      ]
    },
    {
      "cell_type": "code",
      "source": [
        "parser = NaklistrOutputParser()"
      ],
      "metadata": {
        "id": "pa5tLB0UDE3P"
      },
      "execution_count": null,
      "outputs": []
    },
    {
      "cell_type": "code",
      "source": [
        "chain = RunnableConnector([template,llm,parser])"
      ],
      "metadata": {
        "id": "xmjyEoFJAqt8"
      },
      "execution_count": null,
      "outputs": []
    },
    {
      "cell_type": "code",
      "source": [
        "chain.invoke({'length':'long', 'topic':'india'})"
      ],
      "metadata": {
        "colab": {
          "base_uri": "https://localhost:8080/",
          "height": 35
        },
        "id": "E1CcgMevAz5R",
        "outputId": "c460735d-829d-475c-e6bc-59876e50c43e"
      },
      "execution_count": null,
      "outputs": [
        {
          "output_type": "execute_result",
          "data": {
            "text/plain": [
              "'AI stands for artificial Intellegence'"
            ],
            "application/vnd.google.colaboratory.intrinsic+json": {
              "type": "string"
            }
          },
          "metadata": {},
          "execution_count": 41
        }
      ]
    },
    {
      "cell_type": "code",
      "source": [
        "template1 = NakliPromptTemplate(\n",
        "    template='write a joke about {topic}',\n",
        "    input_variable=['topic']\n",
        "\n",
        ")"
      ],
      "metadata": {
        "id": "4FUKikSkWlkq"
      },
      "execution_count": 42,
      "outputs": []
    },
    {
      "cell_type": "code",
      "source": [
        "template2 = NakliPromptTemplate(\n",
        "    template='Explain the following joke {response}',\n",
        "    input_variable=['response']\n",
        ")"
      ],
      "metadata": {
        "id": "rZ1NPxaMW3Ju"
      },
      "execution_count": 43,
      "outputs": []
    },
    {
      "cell_type": "code",
      "source": [
        "llm = NakliLLM()"
      ],
      "metadata": {
        "colab": {
          "base_uri": "https://localhost:8080/"
        },
        "id": "3jlTJ7bDXJu9",
        "outputId": "ec3f0d64-8210-428e-a33a-28374ffe5b86"
      },
      "execution_count": 44,
      "outputs": [
        {
          "output_type": "stream",
          "name": "stdout",
          "text": [
            "LLM created\n"
          ]
        }
      ]
    },
    {
      "cell_type": "code",
      "source": [
        "parser = NaklistrOutputParser()"
      ],
      "metadata": {
        "id": "U1YD3lrxXNV9"
      },
      "execution_count": 45,
      "outputs": []
    },
    {
      "cell_type": "code",
      "source": [
        "chain1 = RunnableConnector([template1,llm])"
      ],
      "metadata": {
        "id": "YUIeFAUnXQ_d"
      },
      "execution_count": 46,
      "outputs": []
    },
    {
      "cell_type": "code",
      "source": [],
      "metadata": {
        "id": "YAqwwQrgXVjk"
      },
      "execution_count": 48,
      "outputs": []
    },
    {
      "cell_type": "code",
      "source": [
        "chain2 = RunnableConnector([template2, llm,parser])"
      ],
      "metadata": {
        "id": "Jf4KT-hMXdG9"
      },
      "execution_count": 48,
      "outputs": []
    },
    {
      "cell_type": "code",
      "source": [
        "final_chain = RunnableConnector([chain1, chain2])"
      ],
      "metadata": {
        "id": "O9gqF0DVXq8a"
      },
      "execution_count": 49,
      "outputs": []
    },
    {
      "cell_type": "code",
      "source": [
        "final_chain.invoke({'topic':'cricket'})"
      ],
      "metadata": {
        "colab": {
          "base_uri": "https://localhost:8080/",
          "height": 35
        },
        "id": "yEPPmiXSX0Rc",
        "outputId": "d9e99feb-9afc-4062-cd67-9a21ae465d63"
      },
      "execution_count": 50,
      "outputs": [
        {
          "output_type": "execute_result",
          "data": {
            "text/plain": [
              "'IPL is a cricket league'"
            ],
            "application/vnd.google.colaboratory.intrinsic+json": {
              "type": "string"
            }
          },
          "metadata": {},
          "execution_count": 50
        }
      ]
    },
    {
      "cell_type": "code",
      "source": [],
      "metadata": {
        "id": "i7r0Rq8hX5ml"
      },
      "execution_count": null,
      "outputs": []
    }
  ]
}